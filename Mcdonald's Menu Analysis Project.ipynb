{
 "cells": [
  {
   "cell_type": "markdown",
   "id": "637092ce",
   "metadata": {},
   "source": [
    "# Team 4B - \"Analysis of McDonald's menu\""
   ]
  },
  {
   "cell_type": "code",
   "execution_count": 784,
   "id": "207a794d",
   "metadata": {},
   "outputs": [],
   "source": [
    "# Set up the environment\n",
    "import pandas as pd\n",
    "import numpy as np\n",
    "import seaborn as sns\n",
    "import scipy.stats as stats\n",
    "import statsmodels.api as sma\n",
    "from sklearn.decomposition import PCA\n",
    "from sklearn.preprocessing import StandardScaler\n",
    "import matplotlib as mpl\n",
    "import matplotlib.pyplot as plt\n",
    "import matplotlib.font_manager as fm\n",
    "import plotly.express as px\n",
    "%matplotlib inline"
   ]
  },
  {
   "cell_type": "markdown",
   "id": "64d8aac3",
   "metadata": {},
   "source": [
    "# Data import"
   ]
  },
  {
   "cell_type": "code",
   "execution_count": 498,
   "id": "56022da9",
   "metadata": {
    "scrolled": true
   },
   "outputs": [],
   "source": [
    "# Import the datasets\n",
    "nutrition=pd.read_csv(\"1. nutrition.csv\", nrows=270)\n",
    "items=pd.read_csv(\"2. item.csv\", nrows=270)\n",
    "company=pd.read_csv(\"3. company.csv\", usecols=[\"YEAR\", \"STOCK\", \"REVENUE\"])"
   ]
  },
  {
   "cell_type": "markdown",
   "id": "456757f9",
   "metadata": {},
   "source": [
    "# Data exploration and cleansing"
   ]
  },
  {
   "cell_type": "code",
   "execution_count": 499,
   "id": "32eb5ba5",
   "metadata": {
    "scrolled": true
   },
   "outputs": [
    {
     "name": "stdout",
     "output_type": "stream",
     "text": [
      "<class 'pandas.core.frame.DataFrame'>\n",
      "RangeIndex: 260 entries, 0 to 259\n",
      "Data columns (total 24 columns):\n",
      " #   Column                         Non-Null Count  Dtype  \n",
      "---  ------                         --------------  -----  \n",
      " 0   Category                       260 non-null    object \n",
      " 1   Item                           260 non-null    object \n",
      " 2   Serving Size                   260 non-null    object \n",
      " 3   Calories                       260 non-null    int64  \n",
      " 4   Calories from Fat              260 non-null    int64  \n",
      " 5   Total Fat                      260 non-null    float64\n",
      " 6   Total Fat (% Daily Value)      260 non-null    int64  \n",
      " 7   Saturated Fat                  260 non-null    float64\n",
      " 8   Saturated Fat (% Daily Value)  260 non-null    int64  \n",
      " 9   Trans Fat                      260 non-null    float64\n",
      " 10  Cholesterol                    260 non-null    int64  \n",
      " 11  Cholesterol (% Daily Value)    260 non-null    int64  \n",
      " 12  Sodium                         260 non-null    int64  \n",
      " 13  Sodium (% Daily Value)         260 non-null    int64  \n",
      " 14  Carbohydrates                  260 non-null    int64  \n",
      " 15  Carbohydrates (% Daily Value)  260 non-null    int64  \n",
      " 16  Dietary Fiber                  260 non-null    int64  \n",
      " 17  Dietary Fiber (% Daily Value)  260 non-null    int64  \n",
      " 18  Sugars                         260 non-null    int64  \n",
      " 19  Protein                        260 non-null    int64  \n",
      " 20  Vitamin A (% Daily Value)      260 non-null    int64  \n",
      " 21  Vitamin C (% Daily Value)      260 non-null    int64  \n",
      " 22  Calcium (% Daily Value)        260 non-null    int64  \n",
      " 23  Iron (% Daily Value)           260 non-null    int64  \n",
      "dtypes: float64(3), int64(18), object(3)\n",
      "memory usage: 48.9+ KB\n"
     ]
    },
    {
     "data": {
      "text/plain": [
       "Category                         0\n",
       "Item                             0\n",
       "Serving Size                     0\n",
       "Calories                         0\n",
       "Calories from Fat                0\n",
       "Total Fat                        0\n",
       "Total Fat (% Daily Value)        0\n",
       "Saturated Fat                    0\n",
       "Saturated Fat (% Daily Value)    0\n",
       "Trans Fat                        0\n",
       "Cholesterol                      0\n",
       "Cholesterol (% Daily Value)      0\n",
       "Sodium                           0\n",
       "Sodium (% Daily Value)           0\n",
       "Carbohydrates                    0\n",
       "Carbohydrates (% Daily Value)    0\n",
       "Dietary Fiber                    0\n",
       "Dietary Fiber (% Daily Value)    0\n",
       "Sugars                           0\n",
       "Protein                          0\n",
       "Vitamin A (% Daily Value)        0\n",
       "Vitamin C (% Daily Value)        0\n",
       "Calcium (% Daily Value)          0\n",
       "Iron (% Daily Value)             0\n",
       "dtype: int64"
      ]
     },
     "execution_count": 499,
     "metadata": {},
     "output_type": "execute_result"
    }
   ],
   "source": [
    "# Explore the dataset(1) - nutrition\n",
    "nutrition.describe()\n",
    "nutrition.info()\n",
    "nutrition.isna().sum()"
   ]
  },
  {
   "cell_type": "code",
   "execution_count": 500,
   "id": "e888e98b",
   "metadata": {},
   "outputs": [],
   "source": [
    "# Change column names of the \"nutrition\" dataset to uppercase in order to merge with other datasets\n",
    "nutrition.columns=nutrition.columns.map(str.upper)\n",
    "items.columns=items.columns.map(str.upper)\n",
    "company.columns=company.columns.map(str.upper)"
   ]
  },
  {
   "cell_type": "code",
   "execution_count": 525,
   "id": "a52d2726",
   "metadata": {},
   "outputs": [],
   "source": [
    "# Keep only the numeric part of the \"SERVING SIZE\" column, and drop the remaining character part\n",
    "nutrition[\"SERVING SIZE\"] = nutrition[\"SERVING SIZE\"].apply(lambda x: x.split(\" \")[0])"
   ]
  },
  {
   "cell_type": "code",
   "execution_count": 522,
   "id": "603d1e53",
   "metadata": {},
   "outputs": [
    {
     "data": {
      "text/html": [
       "<div>\n",
       "<style scoped>\n",
       "    .dataframe tbody tr th:only-of-type {\n",
       "        vertical-align: middle;\n",
       "    }\n",
       "\n",
       "    .dataframe tbody tr th {\n",
       "        vertical-align: top;\n",
       "    }\n",
       "\n",
       "    .dataframe thead th {\n",
       "        text-align: right;\n",
       "    }\n",
       "</style>\n",
       "<table border=\"1\" class=\"dataframe\">\n",
       "  <thead>\n",
       "    <tr style=\"text-align: right;\">\n",
       "      <th></th>\n",
       "      <th>CATEGORY</th>\n",
       "      <th>ITEM</th>\n",
       "      <th>SERVING SIZE</th>\n",
       "      <th>CALORIES</th>\n",
       "      <th>CALORIES FROM FAT</th>\n",
       "      <th>TOTAL FAT</th>\n",
       "      <th>TOTAL FAT (% DAILY VALUE)</th>\n",
       "      <th>SATURATED FAT</th>\n",
       "      <th>SATURATED FAT (% DAILY VALUE)</th>\n",
       "      <th>TRANS FAT</th>\n",
       "      <th>...</th>\n",
       "      <th>CARBOHYDRATES (% DAILY VALUE)</th>\n",
       "      <th>DIETARY FIBER</th>\n",
       "      <th>DIETARY FIBER (% DAILY VALUE)</th>\n",
       "      <th>SUGARS</th>\n",
       "      <th>PROTEIN</th>\n",
       "      <th>VITAMIN A (% DAILY VALUE)</th>\n",
       "      <th>VITAMIN C (% DAILY VALUE)</th>\n",
       "      <th>CALCIUM (% DAILY VALUE)</th>\n",
       "      <th>IRON (% DAILY VALUE)</th>\n",
       "      <th>SIZE UNIT</th>\n",
       "    </tr>\n",
       "  </thead>\n",
       "  <tbody>\n",
       "    <tr>\n",
       "      <th>0</th>\n",
       "      <td>Beverages</td>\n",
       "      <td>1% Low Fat Milk Jug</td>\n",
       "      <td>1</td>\n",
       "      <td>100</td>\n",
       "      <td>20</td>\n",
       "      <td>2.5</td>\n",
       "      <td>4</td>\n",
       "      <td>1.5</td>\n",
       "      <td>8</td>\n",
       "      <td>0.0</td>\n",
       "      <td>...</td>\n",
       "      <td>4</td>\n",
       "      <td>0</td>\n",
       "      <td>0</td>\n",
       "      <td>12</td>\n",
       "      <td>8</td>\n",
       "      <td>10</td>\n",
       "      <td>4</td>\n",
       "      <td>30</td>\n",
       "      <td>0</td>\n",
       "      <td>[]</td>\n",
       "    </tr>\n",
       "    <tr>\n",
       "      <th>1</th>\n",
       "      <td>Snacks &amp; Sides</td>\n",
       "      <td>Apple Slices</td>\n",
       "      <td>1.2</td>\n",
       "      <td>15</td>\n",
       "      <td>0</td>\n",
       "      <td>0.0</td>\n",
       "      <td>0</td>\n",
       "      <td>0.0</td>\n",
       "      <td>0</td>\n",
       "      <td>0.0</td>\n",
       "      <td>...</td>\n",
       "      <td>1</td>\n",
       "      <td>0</td>\n",
       "      <td>0</td>\n",
       "      <td>3</td>\n",
       "      <td>0</td>\n",
       "      <td>0</td>\n",
       "      <td>160</td>\n",
       "      <td>2</td>\n",
       "      <td>0</td>\n",
       "      <td>[]</td>\n",
       "    </tr>\n",
       "    <tr>\n",
       "      <th>2</th>\n",
       "      <td>Chicken &amp; Fish</td>\n",
       "      <td>Bacon Buffalo Ranch McChicken</td>\n",
       "      <td>5.7</td>\n",
       "      <td>430</td>\n",
       "      <td>190</td>\n",
       "      <td>21.0</td>\n",
       "      <td>32</td>\n",
       "      <td>5.0</td>\n",
       "      <td>25</td>\n",
       "      <td>0.0</td>\n",
       "      <td>...</td>\n",
       "      <td>14</td>\n",
       "      <td>2</td>\n",
       "      <td>7</td>\n",
       "      <td>6</td>\n",
       "      <td>20</td>\n",
       "      <td>2</td>\n",
       "      <td>10</td>\n",
       "      <td>15</td>\n",
       "      <td>15</td>\n",
       "      <td>[]</td>\n",
       "    </tr>\n",
       "    <tr>\n",
       "      <th>3</th>\n",
       "      <td>Chicken &amp; Fish</td>\n",
       "      <td>Bacon Cheddar McChicken</td>\n",
       "      <td>6</td>\n",
       "      <td>480</td>\n",
       "      <td>220</td>\n",
       "      <td>24.0</td>\n",
       "      <td>38</td>\n",
       "      <td>7.0</td>\n",
       "      <td>35</td>\n",
       "      <td>0.0</td>\n",
       "      <td>...</td>\n",
       "      <td>14</td>\n",
       "      <td>2</td>\n",
       "      <td>8</td>\n",
       "      <td>6</td>\n",
       "      <td>22</td>\n",
       "      <td>4</td>\n",
       "      <td>10</td>\n",
       "      <td>20</td>\n",
       "      <td>15</td>\n",
       "      <td>[]</td>\n",
       "    </tr>\n",
       "    <tr>\n",
       "      <th>4</th>\n",
       "      <td>Beef &amp; Pork</td>\n",
       "      <td>Bacon Clubhouse Burger</td>\n",
       "      <td>9.5</td>\n",
       "      <td>720</td>\n",
       "      <td>360</td>\n",
       "      <td>40.0</td>\n",
       "      <td>62</td>\n",
       "      <td>15.0</td>\n",
       "      <td>75</td>\n",
       "      <td>1.5</td>\n",
       "      <td>...</td>\n",
       "      <td>17</td>\n",
       "      <td>4</td>\n",
       "      <td>14</td>\n",
       "      <td>14</td>\n",
       "      <td>39</td>\n",
       "      <td>8</td>\n",
       "      <td>25</td>\n",
       "      <td>30</td>\n",
       "      <td>25</td>\n",
       "      <td>[]</td>\n",
       "    </tr>\n",
       "  </tbody>\n",
       "</table>\n",
       "<p>5 rows × 25 columns</p>\n",
       "</div>"
      ],
      "text/plain": [
       "         CATEGORY                           ITEM SERVING SIZE  CALORIES  \\\n",
       "0       Beverages            1% Low Fat Milk Jug            1       100   \n",
       "1  Snacks & Sides                   Apple Slices          1.2        15   \n",
       "2  Chicken & Fish  Bacon Buffalo Ranch McChicken          5.7       430   \n",
       "3  Chicken & Fish        Bacon Cheddar McChicken            6       480   \n",
       "4     Beef & Pork         Bacon Clubhouse Burger          9.5       720   \n",
       "\n",
       "   CALORIES FROM FAT  TOTAL FAT  TOTAL FAT (% DAILY VALUE)  SATURATED FAT  \\\n",
       "0                 20        2.5                          4            1.5   \n",
       "1                  0        0.0                          0            0.0   \n",
       "2                190       21.0                         32            5.0   \n",
       "3                220       24.0                         38            7.0   \n",
       "4                360       40.0                         62           15.0   \n",
       "\n",
       "   SATURATED FAT (% DAILY VALUE)  TRANS FAT  ...  \\\n",
       "0                              8        0.0  ...   \n",
       "1                              0        0.0  ...   \n",
       "2                             25        0.0  ...   \n",
       "3                             35        0.0  ...   \n",
       "4                             75        1.5  ...   \n",
       "\n",
       "   CARBOHYDRATES (% DAILY VALUE)  DIETARY FIBER  \\\n",
       "0                              4              0   \n",
       "1                              1              0   \n",
       "2                             14              2   \n",
       "3                             14              2   \n",
       "4                             17              4   \n",
       "\n",
       "   DIETARY FIBER (% DAILY VALUE)  SUGARS  PROTEIN  VITAMIN A (% DAILY VALUE)  \\\n",
       "0                              0      12        8                         10   \n",
       "1                              0       3        0                          0   \n",
       "2                              7       6       20                          2   \n",
       "3                              8       6       22                          4   \n",
       "4                             14      14       39                          8   \n",
       "\n",
       "   VITAMIN C (% DAILY VALUE)  CALCIUM (% DAILY VALUE)  IRON (% DAILY VALUE)  \\\n",
       "0                          4                       30                     0   \n",
       "1                        160                        2                     0   \n",
       "2                         10                       15                    15   \n",
       "3                         10                       20                    15   \n",
       "4                         25                       30                    25   \n",
       "\n",
       "   SIZE UNIT  \n",
       "0         []  \n",
       "1         []  \n",
       "2         []  \n",
       "3         []  \n",
       "4         []  \n",
       "\n",
       "[5 rows x 25 columns]"
      ]
     },
     "execution_count": 522,
     "metadata": {},
     "output_type": "execute_result"
    }
   ],
   "source": [
    "nutrition.head(5)"
   ]
  },
  {
   "cell_type": "code",
   "execution_count": 503,
   "id": "747db3fb",
   "metadata": {
    "scrolled": false
   },
   "outputs": [
    {
     "name": "stdout",
     "output_type": "stream",
     "text": [
      "<class 'pandas.core.frame.DataFrame'>\n",
      "RangeIndex: 266 entries, 0 to 265\n",
      "Data columns (total 5 columns):\n",
      " #   Column           Non-Null Count  Dtype  \n",
      "---  ------           --------------  -----  \n",
      " 0   CATEGORY         266 non-null    object \n",
      " 1   ITEM             266 non-null    object \n",
      " 2   YEAR             246 non-null    float64\n",
      " 3   PRICE            241 non-null    float64\n",
      " 4   CONSUMER RATING  232 non-null    float64\n",
      "dtypes: float64(3), object(2)\n",
      "memory usage: 10.5+ KB\n"
     ]
    },
    {
     "data": {
      "text/plain": [
       "CATEGORY            0\n",
       "ITEM                0\n",
       "YEAR               20\n",
       "PRICE              25\n",
       "CONSUMER RATING    34\n",
       "dtype: int64"
      ]
     },
     "execution_count": 503,
     "metadata": {},
     "output_type": "execute_result"
    }
   ],
   "source": [
    "# Explore the dataset(2) - items\n",
    "items.describe()\n",
    "items.info()\n",
    "items.isna().sum()\n",
    "# Found some missing values"
   ]
  },
  {
   "cell_type": "code",
   "execution_count": 504,
   "id": "4f3cfd43",
   "metadata": {},
   "outputs": [
    {
     "data": {
      "text/html": [
       "<div>\n",
       "<style scoped>\n",
       "    .dataframe tbody tr th:only-of-type {\n",
       "        vertical-align: middle;\n",
       "    }\n",
       "\n",
       "    .dataframe tbody tr th {\n",
       "        vertical-align: top;\n",
       "    }\n",
       "\n",
       "    .dataframe thead th {\n",
       "        text-align: right;\n",
       "    }\n",
       "</style>\n",
       "<table border=\"1\" class=\"dataframe\">\n",
       "  <thead>\n",
       "    <tr style=\"text-align: right;\">\n",
       "      <th></th>\n",
       "      <th>CATEGORY</th>\n",
       "      <th>ITEM</th>\n",
       "      <th>YEAR</th>\n",
       "      <th>PRICE</th>\n",
       "      <th>CONSUMER RATING</th>\n",
       "    </tr>\n",
       "  </thead>\n",
       "  <tbody>\n",
       "    <tr>\n",
       "      <th>0</th>\n",
       "      <td>Beef &amp; Pork</td>\n",
       "      <td>Bacon Clubhouse Burger</td>\n",
       "      <td>2014.0</td>\n",
       "      <td>4.49</td>\n",
       "      <td>3.8</td>\n",
       "    </tr>\n",
       "    <tr>\n",
       "      <th>1</th>\n",
       "      <td>Beef &amp; Pork</td>\n",
       "      <td>Bacon McDouble</td>\n",
       "      <td>1997.0</td>\n",
       "      <td>2.59</td>\n",
       "      <td>NaN</td>\n",
       "    </tr>\n",
       "    <tr>\n",
       "      <th>2</th>\n",
       "      <td>Beef &amp; Pork</td>\n",
       "      <td>Big Mac</td>\n",
       "      <td>1967.0</td>\n",
       "      <td>4.89</td>\n",
       "      <td>NaN</td>\n",
       "    </tr>\n",
       "    <tr>\n",
       "      <th>3</th>\n",
       "      <td>Beef &amp; Pork</td>\n",
       "      <td>Cheeseburger</td>\n",
       "      <td>1948.0</td>\n",
       "      <td>1.69</td>\n",
       "      <td>NaN</td>\n",
       "    </tr>\n",
       "    <tr>\n",
       "      <th>4</th>\n",
       "      <td>Beef &amp; Pork</td>\n",
       "      <td>Daily Double</td>\n",
       "      <td>2012.0</td>\n",
       "      <td>2.39</td>\n",
       "      <td>NaN</td>\n",
       "    </tr>\n",
       "    <tr>\n",
       "      <th>5</th>\n",
       "      <td>Beef &amp; Pork</td>\n",
       "      <td>Double Cheeseburger</td>\n",
       "      <td>1965.0</td>\n",
       "      <td>NaN</td>\n",
       "      <td>NaN</td>\n",
       "    </tr>\n",
       "    <tr>\n",
       "      <th>6</th>\n",
       "      <td>Beef &amp; Pork</td>\n",
       "      <td>Double Quarter Pounder with Cheese</td>\n",
       "      <td>2022.0</td>\n",
       "      <td>NaN</td>\n",
       "      <td>NaN</td>\n",
       "    </tr>\n",
       "    <tr>\n",
       "      <th>7</th>\n",
       "      <td>Beef &amp; Pork</td>\n",
       "      <td>Hamburger</td>\n",
       "      <td>1948.0</td>\n",
       "      <td>NaN</td>\n",
       "      <td>NaN</td>\n",
       "    </tr>\n",
       "    <tr>\n",
       "      <th>8</th>\n",
       "      <td>Beef &amp; Pork</td>\n",
       "      <td>Jalapeno Double</td>\n",
       "      <td>2014.0</td>\n",
       "      <td>NaN</td>\n",
       "      <td>NaN</td>\n",
       "    </tr>\n",
       "    <tr>\n",
       "      <th>9</th>\n",
       "      <td>Beef &amp; Pork</td>\n",
       "      <td>McDouble</td>\n",
       "      <td>1997.0</td>\n",
       "      <td>NaN</td>\n",
       "      <td>NaN</td>\n",
       "    </tr>\n",
       "    <tr>\n",
       "      <th>10</th>\n",
       "      <td>Beef &amp; Pork</td>\n",
       "      <td>McRib</td>\n",
       "      <td>2021.0</td>\n",
       "      <td>4.29</td>\n",
       "      <td>NaN</td>\n",
       "    </tr>\n",
       "    <tr>\n",
       "      <th>11</th>\n",
       "      <td>Beef &amp; Pork</td>\n",
       "      <td>Quarter Pounder Deluxe</td>\n",
       "      <td>2019.0</td>\n",
       "      <td>9.09</td>\n",
       "      <td>3.2</td>\n",
       "    </tr>\n",
       "    <tr>\n",
       "      <th>12</th>\n",
       "      <td>Beef &amp; Pork</td>\n",
       "      <td>Quarter Pounder with Bacon &amp; Cheese</td>\n",
       "      <td>2019.0</td>\n",
       "      <td>5.99</td>\n",
       "      <td>3.2</td>\n",
       "    </tr>\n",
       "    <tr>\n",
       "      <th>13</th>\n",
       "      <td>Beef &amp; Pork</td>\n",
       "      <td>Quarter Pounder with Bacon Habanero Ranch</td>\n",
       "      <td>2013.0</td>\n",
       "      <td>5.99</td>\n",
       "      <td>3.3</td>\n",
       "    </tr>\n",
       "    <tr>\n",
       "      <th>14</th>\n",
       "      <td>Beef &amp; Pork</td>\n",
       "      <td>Quarter Pounder with Cheese</td>\n",
       "      <td>1973.0</td>\n",
       "      <td>4.89</td>\n",
       "      <td>3.4</td>\n",
       "    </tr>\n",
       "  </tbody>\n",
       "</table>\n",
       "</div>"
      ],
      "text/plain": [
       "       CATEGORY                                       ITEM    YEAR  PRICE  \\\n",
       "0   Beef & Pork                     Bacon Clubhouse Burger  2014.0   4.49   \n",
       "1   Beef & Pork                             Bacon McDouble  1997.0   2.59   \n",
       "2   Beef & Pork                                    Big Mac  1967.0   4.89   \n",
       "3   Beef & Pork                               Cheeseburger  1948.0   1.69   \n",
       "4   Beef & Pork                               Daily Double  2012.0   2.39   \n",
       "5   Beef & Pork                        Double Cheeseburger  1965.0    NaN   \n",
       "6   Beef & Pork         Double Quarter Pounder with Cheese  2022.0    NaN   \n",
       "7   Beef & Pork                                  Hamburger  1948.0    NaN   \n",
       "8   Beef & Pork                            Jalapeno Double  2014.0    NaN   \n",
       "9   Beef & Pork                                   McDouble  1997.0    NaN   \n",
       "10  Beef & Pork                                      McRib  2021.0   4.29   \n",
       "11  Beef & Pork                     Quarter Pounder Deluxe  2019.0   9.09   \n",
       "12  Beef & Pork        Quarter Pounder with Bacon & Cheese  2019.0   5.99   \n",
       "13  Beef & Pork  Quarter Pounder with Bacon Habanero Ranch  2013.0   5.99   \n",
       "14  Beef & Pork                Quarter Pounder with Cheese  1973.0   4.89   \n",
       "\n",
       "    CONSUMER RATING  \n",
       "0               3.8  \n",
       "1               NaN  \n",
       "2               NaN  \n",
       "3               NaN  \n",
       "4               NaN  \n",
       "5               NaN  \n",
       "6               NaN  \n",
       "7               NaN  \n",
       "8               NaN  \n",
       "9               NaN  \n",
       "10              NaN  \n",
       "11              3.2  \n",
       "12              3.2  \n",
       "13              3.3  \n",
       "14              3.4  "
      ]
     },
     "execution_count": 504,
     "metadata": {},
     "output_type": "execute_result"
    }
   ],
   "source": [
    "# Found the fact that missing values in the \"YEAR\" column are coming from the same item names\n",
    "# And also found that every item has a valid \"YEAR\" value in its first row\n",
    "items[items[\"YEAR\"].isna()]\n",
    "items.head(15)"
   ]
  },
  {
   "cell_type": "code",
   "execution_count": 505,
   "id": "128b3184",
   "metadata": {
    "scrolled": true
   },
   "outputs": [],
   "source": [
    "# Replace missing values in the \"YEAR\" column with the valid values of each item name\n",
    "items[\"YEAR\"]=items[\"YEAR\"].fillna(method=\"ffill\")"
   ]
  },
  {
   "cell_type": "code",
   "execution_count": 506,
   "id": "998d40e1",
   "metadata": {
    "scrolled": true
   },
   "outputs": [],
   "source": [
    "# As for the \"PRICE\" and \"CONSUMER RATING\" columns, the team decided to replace missing values with the median values of each category\n",
    "# To do that, the team first created dictionaries containing each median value\n",
    "price_median=dict(items.groupby(\"CATEGORY\")[\"PRICE\"].median().round(2))\n",
    "rating_median=dict(items.groupby(\"CATEGORY\")[\"CONSUMER RATING\"].median().round(2))"
   ]
  },
  {
   "cell_type": "code",
   "execution_count": 507,
   "id": "599e89f7",
   "metadata": {},
   "outputs": [],
   "source": [
    "# And replaced NA values with valid ones according to each category using \"map\" function.\n",
    "valid_price_for_na=items[items[\"PRICE\"].isnull()][\"CATEGORY\"].map(price_median)\n",
    "items[\"PRICE\"].fillna(valid_price_for_na, inplace=True)\n",
    "valid_rating_for_na=items[items[\"CONSUMER RATING\"].isnull()][\"CATEGORY\"].map(rating_median)\n",
    "items[\"CONSUMER RATING\"].fillna(valid_rating_for_na, inplace=True)"
   ]
  },
  {
   "cell_type": "code",
   "execution_count": 508,
   "id": "b7d19ebc",
   "metadata": {
    "scrolled": true
   },
   "outputs": [
    {
     "data": {
      "text/plain": [
       "CATEGORY           0\n",
       "ITEM               0\n",
       "YEAR               0\n",
       "PRICE              0\n",
       "CONSUMER RATING    0\n",
       "dtype: int64"
      ]
     },
     "execution_count": 508,
     "metadata": {},
     "output_type": "execute_result"
    }
   ],
   "source": [
    "# Finished handling the missing values in the item dataset\n",
    "items.isnull().sum()"
   ]
  },
  {
   "cell_type": "code",
   "execution_count": 509,
   "id": "1ed900ab",
   "metadata": {},
   "outputs": [],
   "source": [
    "# Change data type of the \"YEAR\" column to integer\n",
    "items[\"YEAR\"] = items[\"YEAR\"].astype(\"int\")"
   ]
  },
  {
   "cell_type": "code",
   "execution_count": 510,
   "id": "aaf9ad2a",
   "metadata": {},
   "outputs": [
    {
     "name": "stderr",
     "output_type": "stream",
     "text": [
      "C:\\Users\\jwshin\\AppData\\Local\\Temp\\ipykernel_1724\\180747253.py:13: SettingWithCopyWarning: \n",
      "A value is trying to be set on a copy of a slice from a DataFrame\n",
      "\n",
      "See the caveats in the documentation: https://pandas.pydata.org/pandas-docs/stable/user_guide/indexing.html#returning-a-view-versus-a-copy\n",
      "  items[\"HIT ITEM\"][i] = \"No\"\n",
      "C:\\Users\\jwshin\\AppData\\Local\\Temp\\ipykernel_1724\\180747253.py:11: SettingWithCopyWarning: \n",
      "A value is trying to be set on a copy of a slice from a DataFrame\n",
      "\n",
      "See the caveats in the documentation: https://pandas.pydata.org/pandas-docs/stable/user_guide/indexing.html#returning-a-view-versus-a-copy\n",
      "  items[\"HIT ITEM\"][i] = \"Yes\"\n"
     ]
    }
   ],
   "source": [
    "# Conduct discretization on the \"CONSUMER RATING\" and \"PRICE\" columns to have additional categorized columns for the analysis\n",
    "\n",
    "# Create a column named \"HIT ITEM\" and classify the data with the consumer rating above the overall average as \"Yes\"\n",
    "\n",
    "items[\"HIT ITEM\"] = None\n",
    "\n",
    "mean_rating=items[\"CONSUMER RATING\"].mean()\n",
    "\n",
    "for i in range(len(items[\"CONSUMER RATING\"])):\n",
    "    if items[\"CONSUMER RATING\"][i] > mean_rating:\n",
    "        items[\"HIT ITEM\"][i] = \"Yes\"\n",
    "    else:\n",
    "        items[\"HIT ITEM\"][i] = \"No\""
   ]
  },
  {
   "cell_type": "code",
   "execution_count": 511,
   "id": "11082285",
   "metadata": {
    "scrolled": false
   },
   "outputs": [
    {
     "name": "stderr",
     "output_type": "stream",
     "text": [
      "C:\\Users\\jwshin\\AppData\\Local\\Temp\\ipykernel_1724\\903090400.py:10: SettingWithCopyWarning: \n",
      "A value is trying to be set on a copy of a slice from a DataFrame\n",
      "\n",
      "See the caveats in the documentation: https://pandas.pydata.org/pandas-docs/stable/user_guide/indexing.html#returning-a-view-versus-a-copy\n",
      "  items[\"PRICE SEG\"][i] = \"High\"\n",
      "C:\\Users\\jwshin\\AppData\\Local\\Temp\\ipykernel_1724\\903090400.py:12: SettingWithCopyWarning: \n",
      "A value is trying to be set on a copy of a slice from a DataFrame\n",
      "\n",
      "See the caveats in the documentation: https://pandas.pydata.org/pandas-docs/stable/user_guide/indexing.html#returning-a-view-versus-a-copy\n",
      "  items[\"PRICE SEG\"][i] = \"Mid\"\n",
      "C:\\Users\\jwshin\\AppData\\Local\\Temp\\ipykernel_1724\\903090400.py:14: SettingWithCopyWarning: \n",
      "A value is trying to be set on a copy of a slice from a DataFrame\n",
      "\n",
      "See the caveats in the documentation: https://pandas.pydata.org/pandas-docs/stable/user_guide/indexing.html#returning-a-view-versus-a-copy\n",
      "  items[\"PRICE SEG\"][i] = \"Low\"\n"
     ]
    }
   ],
   "source": [
    "# Create a column named \"PRICE SEG\", and classify the upper 25% price as \"High\", and the lower 25% as \"Low\"\n",
    "\n",
    "items[\"PRICE SEG\"] = None\n",
    "\n",
    "q25 = items[\"PRICE\"].quantile(0.25)\n",
    "q75 = items[\"PRICE\"].quantile(0.75)\n",
    "\n",
    "for i in range(len(items[\"PRICE\"])):\n",
    "    if items[\"PRICE\"][i] >= q75:\n",
    "        items[\"PRICE SEG\"][i] = \"High\"\n",
    "    elif items[\"PRICE\"][i] > q25:\n",
    "        items[\"PRICE SEG\"][i] = \"Mid\"\n",
    "    elif items[\"PRICE\"][i] <= q25:\n",
    "        items[\"PRICE SEG\"][i] = \"Low\"\n"
   ]
  },
  {
   "cell_type": "code",
   "execution_count": 514,
   "id": "d8b50935",
   "metadata": {
    "scrolled": false
   },
   "outputs": [
    {
     "name": "stdout",
     "output_type": "stream",
     "text": [
      "<class 'pandas.core.frame.DataFrame'>\n",
      "RangeIndex: 52 entries, 0 to 51\n",
      "Data columns (total 3 columns):\n",
      " #   Column   Non-Null Count  Dtype  \n",
      "---  ------   --------------  -----  \n",
      " 0   YEAR     52 non-null     int64  \n",
      " 1   STOCK    38 non-null     float64\n",
      " 2   REVENUE  52 non-null     object \n",
      "dtypes: float64(1), int64(1), object(1)\n",
      "memory usage: 1.3+ KB\n"
     ]
    },
    {
     "data": {
      "text/plain": [
       "YEAR        0\n",
       "STOCK      14\n",
       "REVENUE     0\n",
       "dtype: int64"
      ]
     },
     "execution_count": 514,
     "metadata": {},
     "output_type": "execute_result"
    }
   ],
   "source": [
    "# Explore the dataset(3) - company\n",
    "company.describe()\n",
    "company.info()\n",
    "company.isna().sum()\n",
    "# Found some missing values"
   ]
  },
  {
   "cell_type": "code",
   "execution_count": 570,
   "id": "861253ae",
   "metadata": {},
   "outputs": [
    {
     "data": {
      "text/html": [
       "<div>\n",
       "<style scoped>\n",
       "    .dataframe tbody tr th:only-of-type {\n",
       "        vertical-align: middle;\n",
       "    }\n",
       "\n",
       "    .dataframe tbody tr th {\n",
       "        vertical-align: top;\n",
       "    }\n",
       "\n",
       "    .dataframe thead th {\n",
       "        text-align: right;\n",
       "    }\n",
       "</style>\n",
       "<table border=\"1\" class=\"dataframe\">\n",
       "  <thead>\n",
       "    <tr style=\"text-align: right;\">\n",
       "      <th></th>\n",
       "      <th>YEAR</th>\n",
       "      <th>STOCK</th>\n",
       "      <th>REVENUE</th>\n",
       "    </tr>\n",
       "  </thead>\n",
       "  <tbody>\n",
       "    <tr>\n",
       "      <th>0</th>\n",
       "      <td>1971</td>\n",
       "      <td>NaN</td>\n",
       "      <td>0.0</td>\n",
       "    </tr>\n",
       "    <tr>\n",
       "      <th>1</th>\n",
       "      <td>1972</td>\n",
       "      <td>NaN</td>\n",
       "      <td>0.0</td>\n",
       "    </tr>\n",
       "    <tr>\n",
       "      <th>2</th>\n",
       "      <td>1973</td>\n",
       "      <td>NaN</td>\n",
       "      <td>0.0</td>\n",
       "    </tr>\n",
       "    <tr>\n",
       "      <th>3</th>\n",
       "      <td>1974</td>\n",
       "      <td>NaN</td>\n",
       "      <td>0.0</td>\n",
       "    </tr>\n",
       "    <tr>\n",
       "      <th>4</th>\n",
       "      <td>1975</td>\n",
       "      <td>NaN</td>\n",
       "      <td>0.0</td>\n",
       "    </tr>\n",
       "    <tr>\n",
       "      <th>5</th>\n",
       "      <td>1976</td>\n",
       "      <td>NaN</td>\n",
       "      <td>0.0</td>\n",
       "    </tr>\n",
       "    <tr>\n",
       "      <th>6</th>\n",
       "      <td>1977</td>\n",
       "      <td>NaN</td>\n",
       "      <td>0.0</td>\n",
       "    </tr>\n",
       "    <tr>\n",
       "      <th>7</th>\n",
       "      <td>1978</td>\n",
       "      <td>NaN</td>\n",
       "      <td>0.0</td>\n",
       "    </tr>\n",
       "    <tr>\n",
       "      <th>8</th>\n",
       "      <td>1979</td>\n",
       "      <td>NaN</td>\n",
       "      <td>0.0</td>\n",
       "    </tr>\n",
       "    <tr>\n",
       "      <th>9</th>\n",
       "      <td>1980</td>\n",
       "      <td>NaN</td>\n",
       "      <td>0.0</td>\n",
       "    </tr>\n",
       "    <tr>\n",
       "      <th>10</th>\n",
       "      <td>1981</td>\n",
       "      <td>NaN</td>\n",
       "      <td>0.0</td>\n",
       "    </tr>\n",
       "    <tr>\n",
       "      <th>11</th>\n",
       "      <td>1982</td>\n",
       "      <td>NaN</td>\n",
       "      <td>0.1</td>\n",
       "    </tr>\n",
       "    <tr>\n",
       "      <th>12</th>\n",
       "      <td>1983</td>\n",
       "      <td>NaN</td>\n",
       "      <td>0.1</td>\n",
       "    </tr>\n",
       "    <tr>\n",
       "      <th>13</th>\n",
       "      <td>1984</td>\n",
       "      <td>3.37</td>\n",
       "      <td>0.1</td>\n",
       "    </tr>\n",
       "    <tr>\n",
       "      <th>14</th>\n",
       "      <td>1985</td>\n",
       "      <td>3.70</td>\n",
       "      <td>0.2</td>\n",
       "    </tr>\n",
       "    <tr>\n",
       "      <th>15</th>\n",
       "      <td>1986</td>\n",
       "      <td>4.14</td>\n",
       "      <td>0.2</td>\n",
       "    </tr>\n",
       "    <tr>\n",
       "      <th>16</th>\n",
       "      <td>1987</td>\n",
       "      <td>4.89</td>\n",
       "      <td>0.2</td>\n",
       "    </tr>\n",
       "    <tr>\n",
       "      <th>17</th>\n",
       "      <td>1988</td>\n",
       "      <td>5.57</td>\n",
       "      <td>0.3</td>\n",
       "    </tr>\n",
       "    <tr>\n",
       "      <th>18</th>\n",
       "      <td>1989</td>\n",
       "      <td>6.14</td>\n",
       "      <td>0.4</td>\n",
       "    </tr>\n",
       "    <tr>\n",
       "      <th>19</th>\n",
       "      <td>1990</td>\n",
       "      <td>6.64</td>\n",
       "      <td>0.3</td>\n",
       "    </tr>\n",
       "  </tbody>\n",
       "</table>\n",
       "</div>"
      ],
      "text/plain": [
       "    YEAR  STOCK  REVENUE\n",
       "0   1971    NaN      0.0\n",
       "1   1972    NaN      0.0\n",
       "2   1973    NaN      0.0\n",
       "3   1974    NaN      0.0\n",
       "4   1975    NaN      0.0\n",
       "5   1976    NaN      0.0\n",
       "6   1977    NaN      0.0\n",
       "7   1978    NaN      0.0\n",
       "8   1979    NaN      0.0\n",
       "9   1980    NaN      0.0\n",
       "10  1981    NaN      0.0\n",
       "11  1982    NaN      0.1\n",
       "12  1983    NaN      0.1\n",
       "13  1984   3.37      0.1\n",
       "14  1985   3.70      0.2\n",
       "15  1986   4.14      0.2\n",
       "16  1987   4.89      0.2\n",
       "17  1988   5.57      0.3\n",
       "18  1989   6.14      0.4\n",
       "19  1990   6.64      0.3"
      ]
     },
     "execution_count": 570,
     "metadata": {},
     "output_type": "execute_result"
    }
   ],
   "source": [
    "# Since the missing values are only from the past stock prices\n",
    "# the team decided not to remove them as they won't affect the analysis\n",
    "company.head(20)"
   ]
  },
  {
   "cell_type": "code",
   "execution_count": 515,
   "id": "6898dba3",
   "metadata": {},
   "outputs": [],
   "source": [
    "# Remove \"B (Billion)\" character in the \"REVENUE\" column and change the data type to floating point number\n",
    "company[\"REVENUE\"] = company[company[\"REVENUE\"].notnull()][\"REVENUE\"].apply(lambda x: x.rstrip(\"B\")).astype(\"float\").round(2)"
   ]
  },
  {
   "cell_type": "code",
   "execution_count": 560,
   "id": "c588e6b6",
   "metadata": {},
   "outputs": [],
   "source": [
    "# Change the data type of the \"REVENUE\" column to integer\n",
    "company[\"REVENUE\"]=company[\"REVENUE\"].astype(\"int\")"
   ]
  },
  {
   "cell_type": "code",
   "execution_count": 561,
   "id": "d8a07363",
   "metadata": {},
   "outputs": [],
   "source": [
    "# Change the unit of the revenue values to a billion\n",
    "company[\"REVENUE\"] = company[\"REVENUE\"] / 10"
   ]
  },
  {
   "cell_type": "code",
   "execution_count": 562,
   "id": "04c8e7e9",
   "metadata": {},
   "outputs": [],
   "source": [
    "# Round the company's stock price and revenue to two decimal places\n",
    "company[\"STOCK\"]=round(company[\"STOCK\"],2)\n",
    "company[\"REVENUE\"]=round(company[\"REVENUE\"],2)"
   ]
  },
  {
   "cell_type": "code",
   "execution_count": 571,
   "id": "f258afa2",
   "metadata": {},
   "outputs": [
    {
     "data": {
      "text/html": [
       "<div>\n",
       "<style scoped>\n",
       "    .dataframe tbody tr th:only-of-type {\n",
       "        vertical-align: middle;\n",
       "    }\n",
       "\n",
       "    .dataframe tbody tr th {\n",
       "        vertical-align: top;\n",
       "    }\n",
       "\n",
       "    .dataframe thead th {\n",
       "        text-align: right;\n",
       "    }\n",
       "</style>\n",
       "<table border=\"1\" class=\"dataframe\">\n",
       "  <thead>\n",
       "    <tr style=\"text-align: right;\">\n",
       "      <th></th>\n",
       "      <th>YEAR</th>\n",
       "      <th>STOCK</th>\n",
       "      <th>REVENUE</th>\n",
       "    </tr>\n",
       "  </thead>\n",
       "  <tbody>\n",
       "    <tr>\n",
       "      <th>0</th>\n",
       "      <td>1971</td>\n",
       "      <td>NaN</td>\n",
       "      <td>0.0</td>\n",
       "    </tr>\n",
       "    <tr>\n",
       "      <th>1</th>\n",
       "      <td>1972</td>\n",
       "      <td>NaN</td>\n",
       "      <td>0.0</td>\n",
       "    </tr>\n",
       "    <tr>\n",
       "      <th>2</th>\n",
       "      <td>1973</td>\n",
       "      <td>NaN</td>\n",
       "      <td>0.0</td>\n",
       "    </tr>\n",
       "    <tr>\n",
       "      <th>3</th>\n",
       "      <td>1974</td>\n",
       "      <td>NaN</td>\n",
       "      <td>0.0</td>\n",
       "    </tr>\n",
       "    <tr>\n",
       "      <th>4</th>\n",
       "      <td>1975</td>\n",
       "      <td>NaN</td>\n",
       "      <td>0.0</td>\n",
       "    </tr>\n",
       "  </tbody>\n",
       "</table>\n",
       "</div>"
      ],
      "text/plain": [
       "   YEAR  STOCK  REVENUE\n",
       "0  1971    NaN      0.0\n",
       "1  1972    NaN      0.0\n",
       "2  1973    NaN      0.0\n",
       "3  1974    NaN      0.0\n",
       "4  1975    NaN      0.0"
      ]
     },
     "execution_count": 571,
     "metadata": {},
     "output_type": "execute_result"
    }
   ],
   "source": [
    "company.head()"
   ]
  },
  {
   "cell_type": "code",
   "execution_count": 534,
   "id": "5217d026",
   "metadata": {},
   "outputs": [],
   "source": [
    "# Merge the nutrition and the items to create the \"menu\" dataset which will be used as the main dataset throughout the anlysis\n",
    "menu=nutrition.merge(items, on=\"ITEM\", how=\"left\")"
   ]
  },
  {
   "cell_type": "code",
   "execution_count": 535,
   "id": "7a9160b8",
   "metadata": {},
   "outputs": [
    {
     "data": {
      "text/plain": [
       "Index(['CATEGORY_x', 'ITEM', 'SERVING SIZE', 'CALORIES', 'CALORIES FROM FAT',\n",
       "       'TOTAL FAT', 'TOTAL FAT (% DAILY VALUE)', 'SATURATED FAT',\n",
       "       'SATURATED FAT (% DAILY VALUE)', 'TRANS FAT', 'CHOLESTEROL',\n",
       "       'CHOLESTEROL (% DAILY VALUE)', 'SODIUM', 'SODIUM (% DAILY VALUE)',\n",
       "       'CARBOHYDRATES', 'CARBOHYDRATES (% DAILY VALUE)', 'DIETARY FIBER',\n",
       "       'DIETARY FIBER (% DAILY VALUE)', 'SUGARS', 'PROTEIN',\n",
       "       'VITAMIN A (% DAILY VALUE)', 'VITAMIN C (% DAILY VALUE)',\n",
       "       'CALCIUM (% DAILY VALUE)', 'IRON (% DAILY VALUE)', 'CATEGORY_y', 'YEAR',\n",
       "       'PRICE', 'CONSUMER RATING', 'HIT ITEM', 'PRICE SEG'],\n",
       "      dtype='object')"
      ]
     },
     "execution_count": 535,
     "metadata": {},
     "output_type": "execute_result"
    }
   ],
   "source": [
    "menu.columns"
   ]
  },
  {
   "cell_type": "code",
   "execution_count": 536,
   "id": "17029f19",
   "metadata": {},
   "outputs": [],
   "source": [
    "# Rename some column names, and drop redundant columns, and rearrange the column order for the analysis efficiency\n",
    "menu.rename({\"CATEGORY_x\":\"CATEGORY\"}, axis=1, inplace=True)\n",
    "menu.drop(\"CATEGORY_y\", axis=1, inplace=True)\n",
    "menu=menu[['CATEGORY', 'ITEM', 'YEAR', 'PRICE','PRICE SEG', 'CONSUMER RATING','HIT ITEM', 'SERVING SIZE', 'CALORIES', 'CALORIES FROM FAT',\n",
    "       'TOTAL FAT', 'TOTAL FAT (% DAILY VALUE)', 'SATURATED FAT',\n",
    "       'SATURATED FAT (% DAILY VALUE)', 'TRANS FAT', 'CHOLESTEROL',\n",
    "       'CHOLESTEROL (% DAILY VALUE)', 'SODIUM', 'SODIUM (% DAILY VALUE)',\n",
    "       'CARBOHYDRATES', 'CARBOHYDRATES (% DAILY VALUE)', 'DIETARY FIBER',\n",
    "       'DIETARY FIBER (% DAILY VALUE)', 'SUGARS', 'PROTEIN',\n",
    "       'VITAMIN A (% DAILY VALUE)', 'VITAMIN C (% DAILY VALUE)',\n",
    "       'CALCIUM (% DAILY VALUE)', 'IRON (% DAILY VALUE)']]"
   ]
  },
  {
   "cell_type": "markdown",
   "id": "b2aa07fa",
   "metadata": {},
   "source": [
    "# Variable reduction"
   ]
  },
  {
   "cell_type": "code",
   "execution_count": 575,
   "id": "409fd878",
   "metadata": {},
   "outputs": [
    {
     "data": {
      "text/plain": [
       "92.0"
      ]
     },
     "execution_count": 575,
     "metadata": {},
     "output_type": "execute_result"
    }
   ],
   "source": [
    "# As there are too many variables in the main dataset, especially for the nutrition-related variables\n",
    "# the team decided to conduct the PCA(Principal Component Analysis) to reduce the number of variables \n",
    "# and avoid the possibility of multicollinearity\n",
    "\n",
    "from sklearn.preprocessing import StandardScaler\n",
    "\n",
    "# Prepare the dataset for the PCA\n",
    "\n",
    "menu_for_pca = menu.copy()\n",
    "menu_for_pca.drop([\"CATEGORY\", \"ITEM\", \"YEAR\", \"PRICE\", \"PRICE SEG\", \"CONSUMER RATING\", \"HIT ITEM\", \"SERVING SIZE\", \"SIZE UNIT\"], axis=1, inplace=True)\n",
    "\n",
    "# Standardize the dataset\n",
    "\n",
    "menu_stdzed_scalar = StandardScaler().fit_transform(menu_for_pca)\n",
    "pca_cols = menu_for_pca.columns\n",
    "menu_stdzed_df=pd.DataFrame(menu_stdzed_scalar, columns=pca_cols)\n",
    "\n",
    "# Conduct PCA\n",
    "# The number of principal components was set to six since they can explain more than 90% of the total variance of the dataset\n",
    "\n",
    "from sklearn.decomposition import PCA\n",
    "pca = PCA(n_components=6)\n",
    "pca_result = pca.fit_transform(menu_stdzed_df)\n",
    "menu_pca=pd.DataFrame(data=pca_result, columns=[\"PC1\", \"PC2\", \"PC3\", \"PC4\", \"PC5\", \"PC6\"])\n",
    "pd.DataFrame(pca.components_.T, columns=[\"PC1\", \"PC2\", \"PC3\", \"PC4\", \"PC5\", \"PC6\"], index=menu_x_std.columns)\n",
    "\n",
    "# The amount of the variance of the dataset explained by the principal components\n",
    "pca.explained_variance_ratio_.sum().round(2)*100"
   ]
  },
  {
   "cell_type": "code",
   "execution_count": 574,
   "id": "faddee1d",
   "metadata": {},
   "outputs": [
    {
     "data": {
      "text/html": [
       "<div>\n",
       "<style scoped>\n",
       "    .dataframe tbody tr th:only-of-type {\n",
       "        vertical-align: middle;\n",
       "    }\n",
       "\n",
       "    .dataframe tbody tr th {\n",
       "        vertical-align: top;\n",
       "    }\n",
       "\n",
       "    .dataframe thead th {\n",
       "        text-align: right;\n",
       "    }\n",
       "</style>\n",
       "<table border=\"1\" class=\"dataframe\">\n",
       "  <thead>\n",
       "    <tr style=\"text-align: right;\">\n",
       "      <th></th>\n",
       "      <th>PC1</th>\n",
       "      <th>PC2</th>\n",
       "      <th>PC3</th>\n",
       "      <th>PC4</th>\n",
       "      <th>PC5</th>\n",
       "      <th>PC6</th>\n",
       "    </tr>\n",
       "  </thead>\n",
       "  <tbody>\n",
       "    <tr>\n",
       "      <th>CALORIES</th>\n",
       "      <td>0.281450</td>\n",
       "      <td>0.146549</td>\n",
       "      <td>0.040764</td>\n",
       "      <td>0.123799</td>\n",
       "      <td>-0.071725</td>\n",
       "      <td>-0.073446</td>\n",
       "    </tr>\n",
       "    <tr>\n",
       "      <th>CALORIES FROM FAT</th>\n",
       "      <td>0.286999</td>\n",
       "      <td>-0.027996</td>\n",
       "      <td>-0.114845</td>\n",
       "      <td>0.105322</td>\n",
       "      <td>-0.078447</td>\n",
       "      <td>0.034784</td>\n",
       "    </tr>\n",
       "    <tr>\n",
       "      <th>TOTAL FAT</th>\n",
       "      <td>0.286767</td>\n",
       "      <td>-0.028054</td>\n",
       "      <td>-0.115904</td>\n",
       "      <td>0.105360</td>\n",
       "      <td>-0.081519</td>\n",
       "      <td>0.031679</td>\n",
       "    </tr>\n",
       "    <tr>\n",
       "      <th>TOTAL FAT (% DAILY VALUE)</th>\n",
       "      <td>0.286855</td>\n",
       "      <td>-0.028196</td>\n",
       "      <td>-0.116586</td>\n",
       "      <td>0.105374</td>\n",
       "      <td>-0.081398</td>\n",
       "      <td>0.033469</td>\n",
       "    </tr>\n",
       "    <tr>\n",
       "      <th>SATURATED FAT</th>\n",
       "      <td>0.258345</td>\n",
       "      <td>0.154097</td>\n",
       "      <td>-0.186592</td>\n",
       "      <td>-0.026898</td>\n",
       "      <td>0.016915</td>\n",
       "      <td>0.176477</td>\n",
       "    </tr>\n",
       "    <tr>\n",
       "      <th>SATURATED FAT (% DAILY VALUE)</th>\n",
       "      <td>0.259178</td>\n",
       "      <td>0.152266</td>\n",
       "      <td>-0.185102</td>\n",
       "      <td>-0.025359</td>\n",
       "      <td>0.017086</td>\n",
       "      <td>0.174896</td>\n",
       "    </tr>\n",
       "    <tr>\n",
       "      <th>TRANS FAT</th>\n",
       "      <td>0.145777</td>\n",
       "      <td>0.237023</td>\n",
       "      <td>-0.118857</td>\n",
       "      <td>-0.015990</td>\n",
       "      <td>-0.094003</td>\n",
       "      <td>0.659926</td>\n",
       "    </tr>\n",
       "    <tr>\n",
       "      <th>CHOLESTEROL</th>\n",
       "      <td>0.226158</td>\n",
       "      <td>-0.067845</td>\n",
       "      <td>-0.183508</td>\n",
       "      <td>-0.209861</td>\n",
       "      <td>0.561123</td>\n",
       "      <td>-0.131487</td>\n",
       "    </tr>\n",
       "    <tr>\n",
       "      <th>CHOLESTEROL (% DAILY VALUE)</th>\n",
       "      <td>0.225882</td>\n",
       "      <td>-0.068138</td>\n",
       "      <td>-0.183744</td>\n",
       "      <td>-0.210874</td>\n",
       "      <td>0.561663</td>\n",
       "      <td>-0.132772</td>\n",
       "    </tr>\n",
       "    <tr>\n",
       "      <th>SODIUM</th>\n",
       "      <td>0.259209</td>\n",
       "      <td>-0.212998</td>\n",
       "      <td>-0.015725</td>\n",
       "      <td>0.066764</td>\n",
       "      <td>-0.155099</td>\n",
       "      <td>-0.070031</td>\n",
       "    </tr>\n",
       "    <tr>\n",
       "      <th>SODIUM (% DAILY VALUE)</th>\n",
       "      <td>0.259371</td>\n",
       "      <td>-0.212181</td>\n",
       "      <td>-0.016014</td>\n",
       "      <td>0.066700</td>\n",
       "      <td>-0.154939</td>\n",
       "      <td>-0.070188</td>\n",
       "    </tr>\n",
       "    <tr>\n",
       "      <th>CARBOHYDRATES</th>\n",
       "      <td>0.169059</td>\n",
       "      <td>0.376295</td>\n",
       "      <td>0.177842</td>\n",
       "      <td>0.168460</td>\n",
       "      <td>0.030405</td>\n",
       "      <td>-0.222875</td>\n",
       "    </tr>\n",
       "    <tr>\n",
       "      <th>CARBOHYDRATES (% DAILY VALUE)</th>\n",
       "      <td>0.169193</td>\n",
       "      <td>0.376273</td>\n",
       "      <td>0.177107</td>\n",
       "      <td>0.167120</td>\n",
       "      <td>0.032137</td>\n",
       "      <td>-0.223675</td>\n",
       "    </tr>\n",
       "    <tr>\n",
       "      <th>DIETARY FIBER</th>\n",
       "      <td>0.204124</td>\n",
       "      <td>-0.199733</td>\n",
       "      <td>0.402580</td>\n",
       "      <td>-0.014537</td>\n",
       "      <td>-0.035360</td>\n",
       "      <td>-0.142179</td>\n",
       "    </tr>\n",
       "    <tr>\n",
       "      <th>DIETARY FIBER (% DAILY VALUE)</th>\n",
       "      <td>0.204709</td>\n",
       "      <td>-0.194565</td>\n",
       "      <td>0.416429</td>\n",
       "      <td>-0.032048</td>\n",
       "      <td>-0.025317</td>\n",
       "      <td>-0.133341</td>\n",
       "    </tr>\n",
       "    <tr>\n",
       "      <th>SUGARS</th>\n",
       "      <td>-0.006278</td>\n",
       "      <td>0.492933</td>\n",
       "      <td>0.133380</td>\n",
       "      <td>0.038909</td>\n",
       "      <td>0.095859</td>\n",
       "      <td>-0.119576</td>\n",
       "    </tr>\n",
       "    <tr>\n",
       "      <th>PROTEIN</th>\n",
       "      <td>0.260922</td>\n",
       "      <td>-0.076083</td>\n",
       "      <td>0.094619</td>\n",
       "      <td>-0.068115</td>\n",
       "      <td>-0.220629</td>\n",
       "      <td>0.056135</td>\n",
       "    </tr>\n",
       "    <tr>\n",
       "      <th>VITAMIN A (% DAILY VALUE)</th>\n",
       "      <td>0.049953</td>\n",
       "      <td>-0.008696</td>\n",
       "      <td>0.484642</td>\n",
       "      <td>-0.542670</td>\n",
       "      <td>0.098717</td>\n",
       "      <td>0.378848</td>\n",
       "    </tr>\n",
       "    <tr>\n",
       "      <th>VITAMIN C (% DAILY VALUE)</th>\n",
       "      <td>-0.020984</td>\n",
       "      <td>-0.083420</td>\n",
       "      <td>0.352697</td>\n",
       "      <td>0.617421</td>\n",
       "      <td>0.454140</td>\n",
       "      <td>0.379021</td>\n",
       "    </tr>\n",
       "    <tr>\n",
       "      <th>CALCIUM (% DAILY VALUE)</th>\n",
       "      <td>0.093080</td>\n",
       "      <td>0.346987</td>\n",
       "      <td>0.142566</td>\n",
       "      <td>-0.334826</td>\n",
       "      <td>-0.097220</td>\n",
       "      <td>-0.066190</td>\n",
       "    </tr>\n",
       "    <tr>\n",
       "      <th>IRON (% DAILY VALUE)</th>\n",
       "      <td>0.248192</td>\n",
       "      <td>-0.190467</td>\n",
       "      <td>0.046444</td>\n",
       "      <td>-0.028815</td>\n",
       "      <td>-0.021799</td>\n",
       "      <td>0.050763</td>\n",
       "    </tr>\n",
       "  </tbody>\n",
       "</table>\n",
       "</div>"
      ],
      "text/plain": [
       "                                    PC1       PC2       PC3       PC4  \\\n",
       "CALORIES                       0.281450  0.146549  0.040764  0.123799   \n",
       "CALORIES FROM FAT              0.286999 -0.027996 -0.114845  0.105322   \n",
       "TOTAL FAT                      0.286767 -0.028054 -0.115904  0.105360   \n",
       "TOTAL FAT (% DAILY VALUE)      0.286855 -0.028196 -0.116586  0.105374   \n",
       "SATURATED FAT                  0.258345  0.154097 -0.186592 -0.026898   \n",
       "SATURATED FAT (% DAILY VALUE)  0.259178  0.152266 -0.185102 -0.025359   \n",
       "TRANS FAT                      0.145777  0.237023 -0.118857 -0.015990   \n",
       "CHOLESTEROL                    0.226158 -0.067845 -0.183508 -0.209861   \n",
       "CHOLESTEROL (% DAILY VALUE)    0.225882 -0.068138 -0.183744 -0.210874   \n",
       "SODIUM                         0.259209 -0.212998 -0.015725  0.066764   \n",
       "SODIUM (% DAILY VALUE)         0.259371 -0.212181 -0.016014  0.066700   \n",
       "CARBOHYDRATES                  0.169059  0.376295  0.177842  0.168460   \n",
       "CARBOHYDRATES (% DAILY VALUE)  0.169193  0.376273  0.177107  0.167120   \n",
       "DIETARY FIBER                  0.204124 -0.199733  0.402580 -0.014537   \n",
       "DIETARY FIBER (% DAILY VALUE)  0.204709 -0.194565  0.416429 -0.032048   \n",
       "SUGARS                        -0.006278  0.492933  0.133380  0.038909   \n",
       "PROTEIN                        0.260922 -0.076083  0.094619 -0.068115   \n",
       "VITAMIN A (% DAILY VALUE)      0.049953 -0.008696  0.484642 -0.542670   \n",
       "VITAMIN C (% DAILY VALUE)     -0.020984 -0.083420  0.352697  0.617421   \n",
       "CALCIUM (% DAILY VALUE)        0.093080  0.346987  0.142566 -0.334826   \n",
       "IRON (% DAILY VALUE)           0.248192 -0.190467  0.046444 -0.028815   \n",
       "\n",
       "                                    PC5       PC6  \n",
       "CALORIES                      -0.071725 -0.073446  \n",
       "CALORIES FROM FAT             -0.078447  0.034784  \n",
       "TOTAL FAT                     -0.081519  0.031679  \n",
       "TOTAL FAT (% DAILY VALUE)     -0.081398  0.033469  \n",
       "SATURATED FAT                  0.016915  0.176477  \n",
       "SATURATED FAT (% DAILY VALUE)  0.017086  0.174896  \n",
       "TRANS FAT                     -0.094003  0.659926  \n",
       "CHOLESTEROL                    0.561123 -0.131487  \n",
       "CHOLESTEROL (% DAILY VALUE)    0.561663 -0.132772  \n",
       "SODIUM                        -0.155099 -0.070031  \n",
       "SODIUM (% DAILY VALUE)        -0.154939 -0.070188  \n",
       "CARBOHYDRATES                  0.030405 -0.222875  \n",
       "CARBOHYDRATES (% DAILY VALUE)  0.032137 -0.223675  \n",
       "DIETARY FIBER                 -0.035360 -0.142179  \n",
       "DIETARY FIBER (% DAILY VALUE) -0.025317 -0.133341  \n",
       "SUGARS                         0.095859 -0.119576  \n",
       "PROTEIN                       -0.220629  0.056135  \n",
       "VITAMIN A (% DAILY VALUE)      0.098717  0.378848  \n",
       "VITAMIN C (% DAILY VALUE)      0.454140  0.379021  \n",
       "CALCIUM (% DAILY VALUE)       -0.097220 -0.066190  \n",
       "IRON (% DAILY VALUE)          -0.021799  0.050763  "
      ]
     },
     "execution_count": 574,
     "metadata": {},
     "output_type": "execute_result"
    }
   ],
   "source": [
    "# Check the result of the PCA\n",
    "pd.DataFrame(pca.components_.T, columns=[\"PC1\", \"PC2\", \"PC3\", \"PC4\", \"PC5\", \"PC6\"], index=menu_x_std.columns)"
   ]
  },
  {
   "cell_type": "code",
   "execution_count": 1130,
   "id": "5c87d498",
   "metadata": {},
   "outputs": [
    {
     "data": {
      "image/png": "[encoded data removed]",
      "text/plain": [
       "<Figure size 432x288 with 1 Axes>"
      ]
     },
     "metadata": {
      "needs_background": "light"
     },
     "output_type": "display_data"
    }
   ],
   "source": [
    "# Plot the result of the PCA\n",
    "\n",
    "plt.bar(\n",
    "range(1, len(pca.explained_variance_)+1),\n",
    "pca.explained_variance_, color=\"black\", width=0.5\n",
    ")\n",
    "\n",
    "plt.plot(\n",
    "range(1, len(pca.explained_variance_)+1),\n",
    "np.cumsum(pca.explained_variance_),\n",
    "c=\"red\",\n",
    "label=\"Cumulative Explained Variance\")\n",
    "\n",
    "plt.legend(loc=\"best\", frameon=False)\n",
    "plt.xlabel(\"Number of components\")\n",
    "plt.ylabel(\"Explained variance(eigenvalues)\")\n",
    "\n",
    "plt.title(\" \\\"Explains 92% of total variance with 6 PCs\\\"\", fontsize=14, fontweight=\"bold\", x=0.5, y=1.02, color=\"red\")\n",
    "\n",
    "plt.gca().spines[ [\"right\", \"left\", \"top\"] ].set_visible(False)  "
   ]
  },
  {
   "cell_type": "code",
   "execution_count": 805,
   "id": "74013332",
   "metadata": {},
   "outputs": [],
   "source": [
    "# Create a new dataset named \"menu_pca\"\n",
    "menu_temp=menu[[\"CATEGORY\", \"ITEM\", \"YEAR\", \"PRICE\", \"CONSUMER RATING\", \"HIT ITEM\", \"SERVING SIZE\", \"SIZE UNIT\"]]\n",
    "menu_pca=menu_temp.join(menu_pca)"
   ]
  },
  {
   "cell_type": "markdown",
   "id": "16f4939c",
   "metadata": {},
   "source": [
    "# Analysis - McDonald's Business Performance"
   ]
  },
  {
   "cell_type": "code",
   "execution_count": 573,
   "id": "fc4ca719",
   "metadata": {},
   "outputs": [
    {
     "data": {
      "image/png": "[encoded data removed]",
      "text/plain": [
       "<Figure size 640x480 with 2 Axes>"
      ]
     },
     "metadata": {},
     "output_type": "display_data"
    }
   ],
   "source": [
    "# Plot the revenue and stock prices of McDonald's to see how the company has been doing\n",
    "\n",
    "plt.style.use(\"default\")\n",
    "fig, ax1 = plt.subplots(1,1)\n",
    "ax1.bar(x=company[\"YEAR\"], height=company[\"REVENUE\"], color=\"black\", label=\"(L) Revenue\")\n",
    "ax1.set_xlim(1980, 2023)\n",
    "ax1.set_ylim(0,30)\n",
    "plt.yticks(ticks=[5,10,15,20,25])\n",
    "plt.ylabel(\"Revenue($B)\", fontdict={\"weight\":\"bold\"})\n",
    "plt.gca().spines[[\"right\", \"left\", \"top\"]].set_visible(False)\n",
    "plt.legend(loc=(0.05, 0.83), frameon=False)\n",
    "\n",
    "ax2=ax1.twinx()\n",
    "ax2.plot(company[\"YEAR\"], company[\"STOCK\"], label=\"(R) Stock Price\", color=\"red\")\n",
    "ax2.tick_params(axis=\"y\", direction=\"out\")\n",
    "plt.yticks(ticks=[5,10,15,20,25])\n",
    "plt.ylabel(\"Stock Price($)\", fontdict={\"weight\":\"bold\"})\n",
    "plt.legend(loc=(0.05, 0.78), frameon=False)\n",
    "plt.title(\"McDonald's Business Performance (1980-2022)\", fontsize=12, fontweight=\"bold\")\n",
    "plt.gca().spines[[\"right\", \"left\", \"top\"]].set_visible(False)\n"
   ]
  },
  {
   "cell_type": "code",
   "execution_count": 579,
   "id": "4d5cdcf3",
   "metadata": {},
   "outputs": [],
   "source": [
    "# Looking deeply, we can see that the growth rate is slowing down\n",
    "\n",
    "# in terms of the revenue,\n",
    "# CAGR between 2001 ~ 2011 is 17.0%\n",
    "# CAGR between 2011 ~ 2021 is 13.5%\n",
    "\n",
    "# in terms of the stock price,\n",
    "# CAGR between 2001 ~ 2011 is 6.2%\n",
    "# CAGR between 2011 ~ 2021 is -1.5%%"
   ]
  },
  {
   "cell_type": "markdown",
   "id": "62630fe2",
   "metadata": {},
   "source": [
    "# Analysis - Descriptive Analysis of the menu"
   ]
  },
  {
   "cell_type": "code",
   "execution_count": 581,
   "id": "e7c173b6",
   "metadata": {},
   "outputs": [
    {
     "data": {
      "text/html": [
       "<div>\n",
       "<style scoped>\n",
       "    .dataframe tbody tr th:only-of-type {\n",
       "        vertical-align: middle;\n",
       "    }\n",
       "\n",
       "    .dataframe tbody tr th {\n",
       "        vertical-align: top;\n",
       "    }\n",
       "\n",
       "    .dataframe thead th {\n",
       "        text-align: right;\n",
       "    }\n",
       "</style>\n",
       "<table border=\"1\" class=\"dataframe\">\n",
       "  <thead>\n",
       "    <tr style=\"text-align: right;\">\n",
       "      <th></th>\n",
       "      <th>count</th>\n",
       "      <th>mean</th>\n",
       "      <th>std</th>\n",
       "      <th>min</th>\n",
       "      <th>25%</th>\n",
       "      <th>50%</th>\n",
       "      <th>75%</th>\n",
       "      <th>max</th>\n",
       "    </tr>\n",
       "  </thead>\n",
       "  <tbody>\n",
       "    <tr>\n",
       "      <th>YEAR</th>\n",
       "      <td>266.0</td>\n",
       "      <td>2003.827068</td>\n",
       "      <td>15.412326</td>\n",
       "      <td>1948.00</td>\n",
       "      <td>1999.00</td>\n",
       "      <td>2009.00</td>\n",
       "      <td>2013.00</td>\n",
       "      <td>2022.00</td>\n",
       "    </tr>\n",
       "    <tr>\n",
       "      <th>PRICE</th>\n",
       "      <td>266.0</td>\n",
       "      <td>3.126353</td>\n",
       "      <td>1.491650</td>\n",
       "      <td>0.89</td>\n",
       "      <td>2.00</td>\n",
       "      <td>2.79</td>\n",
       "      <td>3.59</td>\n",
       "      <td>11.69</td>\n",
       "    </tr>\n",
       "    <tr>\n",
       "      <th>CONSUMER RATING</th>\n",
       "      <td>266.0</td>\n",
       "      <td>3.861654</td>\n",
       "      <td>0.648856</td>\n",
       "      <td>2.00</td>\n",
       "      <td>3.40</td>\n",
       "      <td>3.90</td>\n",
       "      <td>4.30</td>\n",
       "      <td>5.00</td>\n",
       "    </tr>\n",
       "    <tr>\n",
       "      <th>SERVING SIZE</th>\n",
       "      <td>266.0</td>\n",
       "      <td>12.536842</td>\n",
       "      <td>7.191803</td>\n",
       "      <td>1.00</td>\n",
       "      <td>6.40</td>\n",
       "      <td>12.00</td>\n",
       "      <td>16.00</td>\n",
       "      <td>32.00</td>\n",
       "    </tr>\n",
       "    <tr>\n",
       "      <th>CALORIES</th>\n",
       "      <td>266.0</td>\n",
       "      <td>363.308271</td>\n",
       "      <td>239.776143</td>\n",
       "      <td>0.00</td>\n",
       "      <td>200.00</td>\n",
       "      <td>335.00</td>\n",
       "      <td>480.00</td>\n",
       "      <td>1880.00</td>\n",
       "    </tr>\n",
       "    <tr>\n",
       "      <th>CALORIES FROM FAT</th>\n",
       "      <td>266.0</td>\n",
       "      <td>125.281955</td>\n",
       "      <td>126.977993</td>\n",
       "      <td>0.00</td>\n",
       "      <td>30.00</td>\n",
       "      <td>100.00</td>\n",
       "      <td>200.00</td>\n",
       "      <td>1060.00</td>\n",
       "    </tr>\n",
       "    <tr>\n",
       "      <th>TOTAL FAT</th>\n",
       "      <td>266.0</td>\n",
       "      <td>13.973684</td>\n",
       "      <td>14.100424</td>\n",
       "      <td>0.00</td>\n",
       "      <td>3.50</td>\n",
       "      <td>11.00</td>\n",
       "      <td>22.00</td>\n",
       "      <td>118.00</td>\n",
       "    </tr>\n",
       "    <tr>\n",
       "      <th>TOTAL FAT (% DAILY VALUE)</th>\n",
       "      <td>266.0</td>\n",
       "      <td>21.515038</td>\n",
       "      <td>21.725599</td>\n",
       "      <td>0.00</td>\n",
       "      <td>5.00</td>\n",
       "      <td>17.00</td>\n",
       "      <td>34.00</td>\n",
       "      <td>182.00</td>\n",
       "    </tr>\n",
       "    <tr>\n",
       "      <th>SATURATED FAT</th>\n",
       "      <td>266.0</td>\n",
       "      <td>5.924812</td>\n",
       "      <td>5.289183</td>\n",
       "      <td>0.00</td>\n",
       "      <td>1.50</td>\n",
       "      <td>5.00</td>\n",
       "      <td>9.75</td>\n",
       "      <td>20.00</td>\n",
       "    </tr>\n",
       "    <tr>\n",
       "      <th>SATURATED FAT (% DAILY VALUE)</th>\n",
       "      <td>266.0</td>\n",
       "      <td>29.560150</td>\n",
       "      <td>26.468175</td>\n",
       "      <td>0.00</td>\n",
       "      <td>6.50</td>\n",
       "      <td>24.00</td>\n",
       "      <td>47.75</td>\n",
       "      <td>102.00</td>\n",
       "    </tr>\n",
       "    <tr>\n",
       "      <th>TRANS FAT</th>\n",
       "      <td>266.0</td>\n",
       "      <td>0.199248</td>\n",
       "      <td>0.425329</td>\n",
       "      <td>0.00</td>\n",
       "      <td>0.00</td>\n",
       "      <td>0.00</td>\n",
       "      <td>0.00</td>\n",
       "      <td>2.50</td>\n",
       "    </tr>\n",
       "    <tr>\n",
       "      <th>CHOLESTEROL</th>\n",
       "      <td>266.0</td>\n",
       "      <td>53.928571</td>\n",
       "      <td>86.534313</td>\n",
       "      <td>0.00</td>\n",
       "      <td>5.00</td>\n",
       "      <td>30.00</td>\n",
       "      <td>65.00</td>\n",
       "      <td>575.00</td>\n",
       "    </tr>\n",
       "    <tr>\n",
       "      <th>CHOLESTEROL (% DAILY VALUE)</th>\n",
       "      <td>266.0</td>\n",
       "      <td>18.045113</td>\n",
       "      <td>28.851439</td>\n",
       "      <td>0.00</td>\n",
       "      <td>2.00</td>\n",
       "      <td>11.00</td>\n",
       "      <td>21.00</td>\n",
       "      <td>192.00</td>\n",
       "    </tr>\n",
       "    <tr>\n",
       "      <th>SODIUM</th>\n",
       "      <td>266.0</td>\n",
       "      <td>487.781955</td>\n",
       "      <td>572.864176</td>\n",
       "      <td>0.00</td>\n",
       "      <td>111.25</td>\n",
       "      <td>185.00</td>\n",
       "      <td>857.50</td>\n",
       "      <td>3600.00</td>\n",
       "    </tr>\n",
       "    <tr>\n",
       "      <th>SODIUM (% DAILY VALUE)</th>\n",
       "      <td>266.0</td>\n",
       "      <td>20.353383</td>\n",
       "      <td>23.856551</td>\n",
       "      <td>0.00</td>\n",
       "      <td>5.00</td>\n",
       "      <td>8.00</td>\n",
       "      <td>35.75</td>\n",
       "      <td>150.00</td>\n",
       "    </tr>\n",
       "    <tr>\n",
       "      <th>CARBOHYDRATES</th>\n",
       "      <td>266.0</td>\n",
       "      <td>46.778195</td>\n",
       "      <td>28.180544</td>\n",
       "      <td>0.00</td>\n",
       "      <td>30.00</td>\n",
       "      <td>43.50</td>\n",
       "      <td>60.00</td>\n",
       "      <td>141.00</td>\n",
       "    </tr>\n",
       "    <tr>\n",
       "      <th>CARBOHYDRATES (% DAILY VALUE)</th>\n",
       "      <td>266.0</td>\n",
       "      <td>15.582707</td>\n",
       "      <td>9.403468</td>\n",
       "      <td>0.00</td>\n",
       "      <td>10.00</td>\n",
       "      <td>14.50</td>\n",
       "      <td>20.00</td>\n",
       "      <td>47.00</td>\n",
       "    </tr>\n",
       "    <tr>\n",
       "      <th>DIETARY FIBER</th>\n",
       "      <td>266.0</td>\n",
       "      <td>1.616541</td>\n",
       "      <td>1.552706</td>\n",
       "      <td>0.00</td>\n",
       "      <td>0.00</td>\n",
       "      <td>1.00</td>\n",
       "      <td>2.75</td>\n",
       "      <td>7.00</td>\n",
       "    </tr>\n",
       "    <tr>\n",
       "      <th>DIETARY FIBER (% DAILY VALUE)</th>\n",
       "      <td>266.0</td>\n",
       "      <td>6.451128</td>\n",
       "      <td>6.257332</td>\n",
       "      <td>0.00</td>\n",
       "      <td>0.00</td>\n",
       "      <td>5.00</td>\n",
       "      <td>10.00</td>\n",
       "      <td>28.00</td>\n",
       "    </tr>\n",
       "    <tr>\n",
       "      <th>SUGARS</th>\n",
       "      <td>266.0</td>\n",
       "      <td>29.045113</td>\n",
       "      <td>28.462319</td>\n",
       "      <td>0.00</td>\n",
       "      <td>6.00</td>\n",
       "      <td>16.50</td>\n",
       "      <td>47.75</td>\n",
       "      <td>128.00</td>\n",
       "    </tr>\n",
       "    <tr>\n",
       "      <th>PROTEIN</th>\n",
       "      <td>266.0</td>\n",
       "      <td>13.082707</td>\n",
       "      <td>11.421294</td>\n",
       "      <td>0.00</td>\n",
       "      <td>3.00</td>\n",
       "      <td>12.00</td>\n",
       "      <td>18.00</td>\n",
       "      <td>87.00</td>\n",
       "    </tr>\n",
       "    <tr>\n",
       "      <th>VITAMIN A (% DAILY VALUE)</th>\n",
       "      <td>266.0</td>\n",
       "      <td>13.169173</td>\n",
       "      <td>24.148861</td>\n",
       "      <td>0.00</td>\n",
       "      <td>2.00</td>\n",
       "      <td>8.00</td>\n",
       "      <td>15.00</td>\n",
       "      <td>170.00</td>\n",
       "    </tr>\n",
       "    <tr>\n",
       "      <th>VITAMIN C (% DAILY VALUE)</th>\n",
       "      <td>266.0</td>\n",
       "      <td>8.342105</td>\n",
       "      <td>26.076511</td>\n",
       "      <td>0.00</td>\n",
       "      <td>0.00</td>\n",
       "      <td>0.00</td>\n",
       "      <td>3.50</td>\n",
       "      <td>240.00</td>\n",
       "    </tr>\n",
       "    <tr>\n",
       "      <th>CALCIUM (% DAILY VALUE)</th>\n",
       "      <td>266.0</td>\n",
       "      <td>20.545113</td>\n",
       "      <td>17.061261</td>\n",
       "      <td>0.00</td>\n",
       "      <td>6.00</td>\n",
       "      <td>20.00</td>\n",
       "      <td>30.00</td>\n",
       "      <td>70.00</td>\n",
       "    </tr>\n",
       "    <tr>\n",
       "      <th>IRON (% DAILY VALUE)</th>\n",
       "      <td>266.0</td>\n",
       "      <td>7.687970</td>\n",
       "      <td>8.628409</td>\n",
       "      <td>0.00</td>\n",
       "      <td>0.00</td>\n",
       "      <td>4.00</td>\n",
       "      <td>15.00</td>\n",
       "      <td>40.00</td>\n",
       "    </tr>\n",
       "  </tbody>\n",
       "</table>\n",
       "</div>"
      ],
      "text/plain": [
       "                               count         mean         std      min  \\\n",
       "YEAR                           266.0  2003.827068   15.412326  1948.00   \n",
       "PRICE                          266.0     3.126353    1.491650     0.89   \n",
       "CONSUMER RATING                266.0     3.861654    0.648856     2.00   \n",
       "SERVING SIZE                   266.0    12.536842    7.191803     1.00   \n",
       "CALORIES                       266.0   363.308271  239.776143     0.00   \n",
       "CALORIES FROM FAT              266.0   125.281955  126.977993     0.00   \n",
       "TOTAL FAT                      266.0    13.973684   14.100424     0.00   \n",
       "TOTAL FAT (% DAILY VALUE)      266.0    21.515038   21.725599     0.00   \n",
       "SATURATED FAT                  266.0     5.924812    5.289183     0.00   \n",
       "SATURATED FAT (% DAILY VALUE)  266.0    29.560150   26.468175     0.00   \n",
       "TRANS FAT                      266.0     0.199248    0.425329     0.00   \n",
       "CHOLESTEROL                    266.0    53.928571   86.534313     0.00   \n",
       "CHOLESTEROL (% DAILY VALUE)    266.0    18.045113   28.851439     0.00   \n",
       "SODIUM                         266.0   487.781955  572.864176     0.00   \n",
       "SODIUM (% DAILY VALUE)         266.0    20.353383   23.856551     0.00   \n",
       "CARBOHYDRATES                  266.0    46.778195   28.180544     0.00   \n",
       "CARBOHYDRATES (% DAILY VALUE)  266.0    15.582707    9.403468     0.00   \n",
       "DIETARY FIBER                  266.0     1.616541    1.552706     0.00   \n",
       "DIETARY FIBER (% DAILY VALUE)  266.0     6.451128    6.257332     0.00   \n",
       "SUGARS                         266.0    29.045113   28.462319     0.00   \n",
       "PROTEIN                        266.0    13.082707   11.421294     0.00   \n",
       "VITAMIN A (% DAILY VALUE)      266.0    13.169173   24.148861     0.00   \n",
       "VITAMIN C (% DAILY VALUE)      266.0     8.342105   26.076511     0.00   \n",
       "CALCIUM (% DAILY VALUE)        266.0    20.545113   17.061261     0.00   \n",
       "IRON (% DAILY VALUE)           266.0     7.687970    8.628409     0.00   \n",
       "\n",
       "                                   25%      50%      75%      max  \n",
       "YEAR                           1999.00  2009.00  2013.00  2022.00  \n",
       "PRICE                             2.00     2.79     3.59    11.69  \n",
       "CONSUMER RATING                   3.40     3.90     4.30     5.00  \n",
       "SERVING SIZE                      6.40    12.00    16.00    32.00  \n",
       "CALORIES                        200.00   335.00   480.00  1880.00  \n",
       "CALORIES FROM FAT                30.00   100.00   200.00  1060.00  \n",
       "TOTAL FAT                         3.50    11.00    22.00   118.00  \n",
       "TOTAL FAT (% DAILY VALUE)         5.00    17.00    34.00   182.00  \n",
       "SATURATED FAT                     1.50     5.00     9.75    20.00  \n",
       "SATURATED FAT (% DAILY VALUE)     6.50    24.00    47.75   102.00  \n",
       "TRANS FAT                         0.00     0.00     0.00     2.50  \n",
       "CHOLESTEROL                       5.00    30.00    65.00   575.00  \n",
       "CHOLESTEROL (% DAILY VALUE)       2.00    11.00    21.00   192.00  \n",
       "SODIUM                          111.25   185.00   857.50  3600.00  \n",
       "SODIUM (% DAILY VALUE)            5.00     8.00    35.75   150.00  \n",
       "CARBOHYDRATES                    30.00    43.50    60.00   141.00  \n",
       "CARBOHYDRATES (% DAILY VALUE)    10.00    14.50    20.00    47.00  \n",
       "DIETARY FIBER                     0.00     1.00     2.75     7.00  \n",
       "DIETARY FIBER (% DAILY VALUE)     0.00     5.00    10.00    28.00  \n",
       "SUGARS                            6.00    16.50    47.75   128.00  \n",
       "PROTEIN                           3.00    12.00    18.00    87.00  \n",
       "VITAMIN A (% DAILY VALUE)         2.00     8.00    15.00   170.00  \n",
       "VITAMIN C (% DAILY VALUE)         0.00     0.00     3.50   240.00  \n",
       "CALCIUM (% DAILY VALUE)           6.00    20.00    30.00    70.00  \n",
       "IRON (% DAILY VALUE)              0.00     4.00    15.00    40.00  "
      ]
     },
     "execution_count": 581,
     "metadata": {},
     "output_type": "execute_result"
    }
   ],
   "source": [
    "# Check the descriptive statistics of the main dataset for the purpose of the initial data exploration\n",
    "menu.describe().T"
   ]
  },
  {
   "cell_type": "code",
   "execution_count": 582,
   "id": "1cd7f45c",
   "metadata": {
    "scrolled": true
   },
   "outputs": [
    {
     "data": {
      "text/plain": [
       "Coffee & Tea          95\n",
       "Breakfast             42\n",
       "Smoothies & Shakes    28\n",
       "Beverages             27\n",
       "Chicken & Fish        27\n",
       "Beef & Pork           15\n",
       "Desserts              13\n",
       "Snacks & Sides        13\n",
       "Salads                 6\n",
       "Name: CATEGORY, dtype: int64"
      ]
     },
     "execution_count": 582,
     "metadata": {},
     "output_type": "execute_result"
    }
   ],
   "source": [
    "# Check the number of items in each category. Coffee & Tea has the most items which can pose a management complexity issue to the company\n",
    "menu.CATEGORY.value_counts()"
   ]
  },
  {
   "cell_type": "code",
   "execution_count": 585,
   "id": "2879b79f",
   "metadata": {
    "scrolled": false
   },
   "outputs": [
    {
     "name": "stderr",
     "output_type": "stream",
     "text": [
      "C:\\Users\\jwshin\\Anaconda3\\lib\\site-packages\\seaborn\\_decorators.py:36: FutureWarning: Pass the following variable as a keyword arg: x. From version 0.12, the only valid positional argument will be `data`, and passing other arguments without an explicit keyword will result in an error or misinterpretation.\n",
      "  warnings.warn(\n"
     ]
    },
    {
     "data": {
      "image/png": "[encoded data removed]",
      "text/plain": [
       "<Figure size 1500x500 with 1 Axes>"
      ]
     },
     "metadata": {},
     "output_type": "display_data"
    }
   ],
   "source": [
    "# Plot the number of items per category\n",
    "fig, ax = plt.subplots(figsize=(15, 5))\n",
    "sns.set_style(\"whitegrid\", {'axes.grid' : False})\n",
    "sns.countplot(menu.CATEGORY, order = menu.CATEGORY.value_counts().index, palette='gist_gray'  )\n",
    "plt.gca().spines[[\"right\", \"left\", \"top\"]].set_visible(False)"
   ]
  },
  {
   "cell_type": "code",
   "execution_count": 1131,
   "id": "5c4f849d",
   "metadata": {},
   "outputs": [
    {
     "data": {
      "text/plain": [
       "Text(0.5, 1.05, 'Number of items by Category')"
      ]
     },
     "execution_count": 1131,
     "metadata": {},
     "output_type": "execute_result"
    },
    {
     "data": {
      "image/png": "[encoded data removed]",
      "text/plain": [
       "<Figure size 576x360 with 1 Axes>"
      ]
     },
     "metadata": {
      "needs_background": "light"
     },
     "output_type": "display_data"
    }
   ],
   "source": [
    "# Plot the number of items per category with the \"Hit Item\" column indicated\n",
    "fig, ax = plt.subplots(figsize=(8, 5))\n",
    "sns.set_style(\"whitegrid\", {'axes.grid' : False})\n",
    "sns.countplot(data = menu, y = 'CATEGORY', hue = 'HIT ITEM', \n",
    "              order = menu.CATEGORY.value_counts().index, palette=[\"lightgrey\", \"black\"])\n",
    "plt.gca().spines[ [\"right\", \"left\", \"top\", \"bottom\"] ].set_visible(False)  \n",
    "plt.xlabel(None)\n",
    "plt.ylabel(None)\n",
    "plt.yticks(size=15)\n",
    "plt.xticks(None)\n",
    "plt.title(\"Number of items by Category\", size=20, fontweight=\"bold\", x=0.5, y=1.05)\n",
    "\n",
    "# Chicken & Fish, Coffee & Tea, Breakfast, Snacks & Sides, and Salads can be viewed as consumer prefered categories"
   ]
  },
  {
   "cell_type": "code",
   "execution_count": 588,
   "id": "e5e39fa9",
   "metadata": {},
   "outputs": [
    {
     "data": {
      "text/plain": [
       "<matplotlib.legend.Legend at 0x1b18767a0a0>"
      ]
     },
     "execution_count": 588,
     "metadata": {},
     "output_type": "execute_result"
    },
    {
     "data": {
      "image/png": "[encoded data removed]",
      "text/plain": [
       "<Figure size 800x500 with 1 Axes>"
      ]
     },
     "metadata": {},
     "output_type": "display_data"
    }
   ],
   "source": [
    "# Plot the number of items per category with the \"Price segment\" column indicated\n",
    "fig, ax = plt.subplots(figsize=(8, 5))\n",
    "sns.countplot(data = menu, y = 'CATEGORY', hue = 'PRICE SEG',\n",
    "              order = menu.CATEGORY.value_counts().index, palette=[\"black\", \"darkgray\", \"lightgray\"])\n",
    "plt.gca().spines[ [\"right\", \"left\", \"top\", \"bottom\"] ].set_visible(False)  \n",
    "plt.xlabel(None)\n",
    "plt.ylabel(None)\n",
    "plt.yticks(size=15)\n",
    "plt.xticks(None)\n",
    "plt.title(\"Number of items by Price segment\", size=20, fontweight=\"bold\", x=0.5, y=1.05)\n",
    "plt.legend(loc=\"lower right\")\n",
    "\n",
    "# Breakfast, Chicken & Fish, Beef & Pork, and Salads can be viewed as premium categories"
   ]
  },
  {
   "cell_type": "code",
   "execution_count": 596,
   "id": "a97465c9",
   "metadata": {},
   "outputs": [
    {
     "data": {
      "image/png": "[encoded data removed]",
      "text/plain": [
       "<Figure size 1500x800 with 2 Axes>"
      ]
     },
     "metadata": {},
     "output_type": "display_data"
    }
   ],
   "source": [
    "# Check the correlation between nutrition\n",
    "\n",
    "menu_nutrition = menu[['CALORIES','TOTAL FAT', 'SATURATED FAT', 'TRANS FAT', 'CHOLESTEROL','SODIUM','CARBOHYDRATES','DIETARY FIBER','SUGARS', 'PROTEIN']]\n",
    "\n",
    "fig, ax = plt.subplots(figsize=(15, 8))\n",
    "sns.heatmap(menu_updated.corr(),annot=True, cmap=\"YlGnBu\")\n",
    "plt.title(\"Correlation between nutrition\", fontsize=40, x=0.52, y=1.15, fontweight=\"bold\")\n",
    "plt.show()\n"
   ]
  },
  {
   "cell_type": "code",
   "execution_count": 1132,
   "id": "fa539041",
   "metadata": {
    "scrolled": true
   },
   "outputs": [
    {
     "data": {
      "text/plain": [
       "Text(0.4, 1.0, 'Calories')"
      ]
     },
     "execution_count": 1132,
     "metadata": {},
     "output_type": "execute_result"
    },
    {
     "data": {
      "image/png": "[encoded data removed]",
      "text/plain": [
       "<Figure size 360x144 with 1 Axes>"
      ]
     },
     "metadata": {},
     "output_type": "display_data"
    }
   ],
   "source": [
    "# Calorie and total fat have higher average correlation coefficients than others\n",
    "# Cholesterol is considered as one of the key nutritional factor to be monitored\n",
    "\n",
    "# The team decided to compare these nutrition between menu category\n",
    "\n",
    "# For calories,\n",
    "menu_cal=menu.groupby(\"CATEGORY\")[\"CALORIES\"].mean().sort_values().round(0)\n",
    "menu_cal=pd.DataFrame(menu_cal)\n",
    "bar_x=list(menu_cal.index)\n",
    "\n",
    "fig, ax = plt.subplots(figsize=(5, 2))\n",
    "plt.barh(y=bar_x, width=menu_cal[\"CALORIES\"],color=[\"lightgrey\", \"lightgrey\", \"lightgrey\", \"lightgrey\", \"lightgrey\", \"lightgrey\", \"black\", \"black\", \"black\"])\n",
    "plt.gca().spines[ [\"right\", \"left\", \"top\", \"bottom\"] ].set_visible(False)  \n",
    "plt.xticks(fontsize=0)\n",
    "plt.yticks(fontsize=13)\n",
    "plt.title(\"Calories\", x=0.4, fontweight=\"bold\", fontsize=18)\n",
    "\n",
    "# Top 3 categories are Chicken & Fish, Smoothies & Shakes, and Breakfast"
   ]
  },
  {
   "cell_type": "code",
   "execution_count": 1133,
   "id": "554a5ea0",
   "metadata": {},
   "outputs": [
    {
     "data": {
      "text/plain": [
       "Text(0.4, 1.0, 'Total fat')"
      ]
     },
     "execution_count": 1133,
     "metadata": {},
     "output_type": "execute_result"
    },
    {
     "data": {
      "image/png": "[encoded data removed]",
      "text/plain": [
       "<Figure size 360x144 with 1 Axes>"
      ]
     },
     "metadata": {},
     "output_type": "display_data"
    }
   ],
   "source": [
    "# For total fat,\n",
    "menu_fat=menu.groupby(\"CATEGORY\")[\"TOTAL FAT\"].mean().sort_values().round(0)\n",
    "menu_fat=pd.DataFrame(menu_fat)\n",
    "bar_x=list(menu_fat.index)\n",
    "\n",
    "fig, ax = plt.subplots(figsize=(5, 2))\n",
    "plt.barh(y=bar_x, width=menu_fat[\"TOTAL FAT\"],color=[\"lightgrey\", \"lightgrey\", \"lightgrey\", \"lightgrey\", \"lightgrey\", \"lightgrey\", \"black\", \"black\", \"black\"])\n",
    "plt.gca().spines[ [\"right\", \"left\", \"top\", \"bottom\"] ].set_visible(False)  \n",
    "plt.xticks(fontsize=0)\n",
    "plt.yticks(fontsize=13)\n",
    "plt.title(\"Total fat\", x=0.4, fontweight=\"bold\", fontsize=18)\n",
    "\n",
    "# Top 3 categories are Breakfast, Chicken & Fish, and Beer & Pork"
   ]
  },
  {
   "cell_type": "code",
   "execution_count": 1134,
   "id": "5fc9ff46",
   "metadata": {
    "scrolled": true
   },
   "outputs": [
    {
     "data": {
      "text/plain": [
       "Text(0.4, 1.0, 'Cholesterol')"
      ]
     },
     "execution_count": 1134,
     "metadata": {},
     "output_type": "execute_result"
    },
    {
     "data": {
      "image/png": "[encoded data removed]",
      "text/plain": [
       "<Figure size 360x144 with 1 Axes>"
      ]
     },
     "metadata": {},
     "output_type": "display_data"
    }
   ],
   "source": [
    "# For cholesterol,\n",
    "menu_chol=menu.groupby(\"CATEGORY\")[\"CHOLESTEROL\"].mean().sort_values().round(0)\n",
    "menu_chol=pd.DataFrame(menu_chol)\n",
    "bar_x=list(menu_chol.index)\n",
    "\n",
    "fig, ax = plt.subplots(figsize=(5, 2))\n",
    "plt.barh(y=bar_x, width=menu_chol[\"CHOLESTEROL\"],color=[\"lightgrey\", \"lightgrey\", \"lightgrey\", \"lightgrey\", \"lightgrey\", \"lightgrey\", \"black\", \"black\", \"black\"])\n",
    "plt.gca().spines[ [\"right\", \"left\", \"top\", \"bottom\"] ].set_visible(False)  \n",
    "plt.xticks(fontsize=0)\n",
    "plt.yticks(fontsize=13)\n",
    "plt.title(\"Cholesterol\", x=0.4, fontweight=\"bold\", fontsize=18)\n",
    "\n",
    "# Top 3 categories are Breakfast, Beef & Pork, and Chicken & Fish"
   ]
  },
  {
   "cell_type": "code",
   "execution_count": 616,
   "id": "10ab277b",
   "metadata": {},
   "outputs": [
    {
     "data": {
      "text/html": [
       "<div>\n",
       "<style scoped>\n",
       "    .dataframe tbody tr th:only-of-type {\n",
       "        vertical-align: middle;\n",
       "    }\n",
       "\n",
       "    .dataframe tbody tr th {\n",
       "        vertical-align: top;\n",
       "    }\n",
       "\n",
       "    .dataframe thead th {\n",
       "        text-align: right;\n",
       "    }\n",
       "</style>\n",
       "<table border=\"1\" class=\"dataframe\">\n",
       "  <thead>\n",
       "    <tr style=\"text-align: right;\">\n",
       "      <th></th>\n",
       "      <th>CALORIES</th>\n",
       "      <th>ITEM</th>\n",
       "      <th>CONSUMER RATING</th>\n",
       "      <th>HIT ITEM</th>\n",
       "    </tr>\n",
       "  </thead>\n",
       "  <tbody>\n",
       "    <tr>\n",
       "      <th>92</th>\n",
       "      <td>1880</td>\n",
       "      <td>Chicken McNuggets (40 piece)</td>\n",
       "      <td>4.2</td>\n",
       "      <td>Yes</td>\n",
       "    </tr>\n",
       "    <tr>\n",
       "      <th>54</th>\n",
       "      <td>1150</td>\n",
       "      <td>Big Breakfast with Hotcakes (Large Biscuit)</td>\n",
       "      <td>3.3</td>\n",
       "      <td>No</td>\n",
       "    </tr>\n",
       "    <tr>\n",
       "      <th>55</th>\n",
       "      <td>1090</td>\n",
       "      <td>Big Breakfast with Hotcakes (Regular Biscuit)</td>\n",
       "      <td>3.1</td>\n",
       "      <td>No</td>\n",
       "    </tr>\n",
       "    <tr>\n",
       "      <th>56</th>\n",
       "      <td>1050</td>\n",
       "      <td>Big Breakfast with Hotcakes and Egg Whites (La...</td>\n",
       "      <td>3.5</td>\n",
       "      <td>No</td>\n",
       "    </tr>\n",
       "    <tr>\n",
       "      <th>57</th>\n",
       "      <td>990</td>\n",
       "      <td>Big Breakfast with Hotcakes and Egg Whites (Re...</td>\n",
       "      <td>3.6</td>\n",
       "      <td>No</td>\n",
       "    </tr>\n",
       "    <tr>\n",
       "      <th>90</th>\n",
       "      <td>940</td>\n",
       "      <td>Chicken McNuggets (20 piece)</td>\n",
       "      <td>4.2</td>\n",
       "      <td>Yes</td>\n",
       "    </tr>\n",
       "    <tr>\n",
       "      <th>234</th>\n",
       "      <td>930</td>\n",
       "      <td>McFlurry with M&amp;M Candies (Medium)</td>\n",
       "      <td>3.6</td>\n",
       "      <td>No</td>\n",
       "    </tr>\n",
       "    <tr>\n",
       "      <th>247</th>\n",
       "      <td>850</td>\n",
       "      <td>Strawberry Shake (Large)</td>\n",
       "      <td>4.0</td>\n",
       "      <td>Yes</td>\n",
       "    </tr>\n",
       "    <tr>\n",
       "      <th>228</th>\n",
       "      <td>850</td>\n",
       "      <td>Chocolate Shake (Large)</td>\n",
       "      <td>5.0</td>\n",
       "      <td>Yes</td>\n",
       "    </tr>\n",
       "    <tr>\n",
       "      <th>242</th>\n",
       "      <td>820</td>\n",
       "      <td>Shamrock Shake (Large)</td>\n",
       "      <td>2.9</td>\n",
       "      <td>No</td>\n",
       "    </tr>\n",
       "  </tbody>\n",
       "</table>\n",
       "</div>"
      ],
      "text/plain": [
       "     CALORIES                                               ITEM  \\\n",
       "92       1880                       Chicken McNuggets (40 piece)   \n",
       "54       1150        Big Breakfast with Hotcakes (Large Biscuit)   \n",
       "55       1090      Big Breakfast with Hotcakes (Regular Biscuit)   \n",
       "56       1050  Big Breakfast with Hotcakes and Egg Whites (La...   \n",
       "57        990  Big Breakfast with Hotcakes and Egg Whites (Re...   \n",
       "90        940                       Chicken McNuggets (20 piece)   \n",
       "234       930                 McFlurry with M&M Candies (Medium)   \n",
       "247       850                           Strawberry Shake (Large)   \n",
       "228       850                            Chocolate Shake (Large)   \n",
       "242       820                             Shamrock Shake (Large)   \n",
       "\n",
       "     CONSUMER RATING HIT ITEM  \n",
       "92               4.2      Yes  \n",
       "54               3.3       No  \n",
       "55               3.1       No  \n",
       "56               3.5       No  \n",
       "57               3.6       No  \n",
       "90               4.2      Yes  \n",
       "234              3.6       No  \n",
       "247              4.0      Yes  \n",
       "228              5.0      Yes  \n",
       "242              2.9       No  "
      ]
     },
     "execution_count": 616,
     "metadata": {},
     "output_type": "execute_result"
    }
   ],
   "source": [
    "#these are the 10 items with maximum amount of Calories and their consumer rating.\n",
    "menu[['CALORIES','ITEM','CONSUMER RATING','HIT ITEM']].sort_values(by='CALORIES', ascending=False).head(10)"
   ]
  },
  {
   "cell_type": "code",
   "execution_count": 617,
   "id": "e626c916",
   "metadata": {
    "scrolled": true
   },
   "outputs": [
    {
     "data": {
      "text/html": [
       "<div>\n",
       "<style scoped>\n",
       "    .dataframe tbody tr th:only-of-type {\n",
       "        vertical-align: middle;\n",
       "    }\n",
       "\n",
       "    .dataframe tbody tr th {\n",
       "        vertical-align: top;\n",
       "    }\n",
       "\n",
       "    .dataframe thead th {\n",
       "        text-align: right;\n",
       "    }\n",
       "</style>\n",
       "<table border=\"1\" class=\"dataframe\">\n",
       "  <thead>\n",
       "    <tr style=\"text-align: right;\">\n",
       "      <th></th>\n",
       "      <th>TRANS FAT</th>\n",
       "      <th>ITEM</th>\n",
       "      <th>CONSUMER RATING</th>\n",
       "      <th>HIT ITEM</th>\n",
       "    </tr>\n",
       "  </thead>\n",
       "  <tbody>\n",
       "    <tr>\n",
       "      <th>6</th>\n",
       "      <td>2.5</td>\n",
       "      <td>Double Quarter Pounder with Cheese</td>\n",
       "      <td>2.0</td>\n",
       "      <td>No</td>\n",
       "    </tr>\n",
       "    <tr>\n",
       "      <th>0</th>\n",
       "      <td>1.5</td>\n",
       "      <td>Bacon Clubhouse Burger</td>\n",
       "      <td>3.8</td>\n",
       "      <td>No</td>\n",
       "    </tr>\n",
       "    <tr>\n",
       "      <th>11</th>\n",
       "      <td>1.5</td>\n",
       "      <td>Quarter Pounder Deluxe</td>\n",
       "      <td>3.2</td>\n",
       "      <td>No</td>\n",
       "    </tr>\n",
       "    <tr>\n",
       "      <th>126</th>\n",
       "      <td>1.5</td>\n",
       "      <td>Frappe Chocolate Chip (Large)</td>\n",
       "      <td>3.5</td>\n",
       "      <td>No</td>\n",
       "    </tr>\n",
       "    <tr>\n",
       "      <th>14</th>\n",
       "      <td>1.5</td>\n",
       "      <td>Quarter Pounder with Cheese</td>\n",
       "      <td>3.4</td>\n",
       "      <td>No</td>\n",
       "    </tr>\n",
       "    <tr>\n",
       "      <th>13</th>\n",
       "      <td>1.5</td>\n",
       "      <td>Quarter Pounder with Bacon Habanero Ranch</td>\n",
       "      <td>3.3</td>\n",
       "      <td>No</td>\n",
       "    </tr>\n",
       "    <tr>\n",
       "      <th>123</th>\n",
       "      <td>1.5</td>\n",
       "      <td>Frappe Caramel (Large)</td>\n",
       "      <td>3.9</td>\n",
       "      <td>Yes</td>\n",
       "    </tr>\n",
       "    <tr>\n",
       "      <th>12</th>\n",
       "      <td>1.5</td>\n",
       "      <td>Quarter Pounder with Bacon &amp; Cheese</td>\n",
       "      <td>3.2</td>\n",
       "      <td>No</td>\n",
       "    </tr>\n",
       "    <tr>\n",
       "      <th>83</th>\n",
       "      <td>1.5</td>\n",
       "      <td>Steak, Egg &amp; Cheese Bagel</td>\n",
       "      <td>4.0</td>\n",
       "      <td>Yes</td>\n",
       "    </tr>\n",
       "    <tr>\n",
       "      <th>92</th>\n",
       "      <td>1.0</td>\n",
       "      <td>Chicken McNuggets (40 piece)</td>\n",
       "      <td>4.2</td>\n",
       "      <td>Yes</td>\n",
       "    </tr>\n",
       "  </tbody>\n",
       "</table>\n",
       "</div>"
      ],
      "text/plain": [
       "     TRANS FAT                                       ITEM  CONSUMER RATING  \\\n",
       "6          2.5         Double Quarter Pounder with Cheese              2.0   \n",
       "0          1.5                     Bacon Clubhouse Burger              3.8   \n",
       "11         1.5                     Quarter Pounder Deluxe              3.2   \n",
       "126        1.5              Frappe Chocolate Chip (Large)              3.5   \n",
       "14         1.5                Quarter Pounder with Cheese              3.4   \n",
       "13         1.5  Quarter Pounder with Bacon Habanero Ranch              3.3   \n",
       "123        1.5                     Frappe Caramel (Large)              3.9   \n",
       "12         1.5        Quarter Pounder with Bacon & Cheese              3.2   \n",
       "83         1.5                  Steak, Egg & Cheese Bagel              4.0   \n",
       "92         1.0               Chicken McNuggets (40 piece)              4.2   \n",
       "\n",
       "    HIT ITEM  \n",
       "6         No  \n",
       "0         No  \n",
       "11        No  \n",
       "126       No  \n",
       "14        No  \n",
       "13        No  \n",
       "123      Yes  \n",
       "12        No  \n",
       "83       Yes  \n",
       "92       Yes  "
      ]
     },
     "execution_count": 617,
     "metadata": {},
     "output_type": "execute_result"
    }
   ],
   "source": [
    "#these are the items with maximum amount of trans fat and their consumer rating.\n",
    "menu[['TRANS FAT','ITEM','CONSUMER RATING','HIT ITEM']].sort_values(by='TRANS FAT', ascending=False).head(10)"
   ]
  },
  {
   "cell_type": "code",
   "execution_count": 618,
   "id": "13de63ca",
   "metadata": {
    "scrolled": true
   },
   "outputs": [
    {
     "data": {
      "text/html": [
       "<div>\n",
       "<style scoped>\n",
       "    .dataframe tbody tr th:only-of-type {\n",
       "        vertical-align: middle;\n",
       "    }\n",
       "\n",
       "    .dataframe tbody tr th {\n",
       "        vertical-align: top;\n",
       "    }\n",
       "\n",
       "    .dataframe thead th {\n",
       "        text-align: right;\n",
       "    }\n",
       "</style>\n",
       "<table border=\"1\" class=\"dataframe\">\n",
       "  <thead>\n",
       "    <tr style=\"text-align: right;\">\n",
       "      <th></th>\n",
       "      <th>TOTAL FAT</th>\n",
       "      <th>ITEM</th>\n",
       "      <th>CONSUMER RATING</th>\n",
       "      <th>HIT ITEM</th>\n",
       "    </tr>\n",
       "  </thead>\n",
       "  <tbody>\n",
       "    <tr>\n",
       "      <th>92</th>\n",
       "      <td>118.0</td>\n",
       "      <td>Chicken McNuggets (40 piece)</td>\n",
       "      <td>4.2</td>\n",
       "      <td>Yes</td>\n",
       "    </tr>\n",
       "    <tr>\n",
       "      <th>54</th>\n",
       "      <td>60.0</td>\n",
       "      <td>Big Breakfast with Hotcakes (Large Biscuit)</td>\n",
       "      <td>3.3</td>\n",
       "      <td>No</td>\n",
       "    </tr>\n",
       "    <tr>\n",
       "      <th>90</th>\n",
       "      <td>59.0</td>\n",
       "      <td>Chicken McNuggets (20 piece)</td>\n",
       "      <td>4.2</td>\n",
       "      <td>Yes</td>\n",
       "    </tr>\n",
       "    <tr>\n",
       "      <th>55</th>\n",
       "      <td>56.0</td>\n",
       "      <td>Big Breakfast with Hotcakes (Regular Biscuit)</td>\n",
       "      <td>3.1</td>\n",
       "      <td>No</td>\n",
       "    </tr>\n",
       "    <tr>\n",
       "      <th>50</th>\n",
       "      <td>52.0</td>\n",
       "      <td>Big Breakfast (Large Biscuit)</td>\n",
       "      <td>3.2</td>\n",
       "      <td>No</td>\n",
       "    </tr>\n",
       "    <tr>\n",
       "      <th>56</th>\n",
       "      <td>50.0</td>\n",
       "      <td>Big Breakfast with Hotcakes and Egg Whites (La...</td>\n",
       "      <td>3.5</td>\n",
       "      <td>No</td>\n",
       "    </tr>\n",
       "    <tr>\n",
       "      <th>51</th>\n",
       "      <td>48.0</td>\n",
       "      <td>Big Breakfast (Regular Biscuit)</td>\n",
       "      <td>3.1</td>\n",
       "      <td>No</td>\n",
       "    </tr>\n",
       "    <tr>\n",
       "      <th>57</th>\n",
       "      <td>46.0</td>\n",
       "      <td>Big Breakfast with Hotcakes and Egg Whites (Re...</td>\n",
       "      <td>3.6</td>\n",
       "      <td>No</td>\n",
       "    </tr>\n",
       "    <tr>\n",
       "      <th>6</th>\n",
       "      <td>43.0</td>\n",
       "      <td>Double Quarter Pounder with Cheese</td>\n",
       "      <td>2.0</td>\n",
       "      <td>No</td>\n",
       "    </tr>\n",
       "    <tr>\n",
       "      <th>52</th>\n",
       "      <td>41.0</td>\n",
       "      <td>Big Breakfast with Egg Whites (Large Biscuit)</td>\n",
       "      <td>3.4</td>\n",
       "      <td>No</td>\n",
       "    </tr>\n",
       "  </tbody>\n",
       "</table>\n",
       "</div>"
      ],
      "text/plain": [
       "    TOTAL FAT                                               ITEM  \\\n",
       "92      118.0                       Chicken McNuggets (40 piece)   \n",
       "54       60.0        Big Breakfast with Hotcakes (Large Biscuit)   \n",
       "90       59.0                       Chicken McNuggets (20 piece)   \n",
       "55       56.0      Big Breakfast with Hotcakes (Regular Biscuit)   \n",
       "50       52.0                      Big Breakfast (Large Biscuit)   \n",
       "56       50.0  Big Breakfast with Hotcakes and Egg Whites (La...   \n",
       "51       48.0                    Big Breakfast (Regular Biscuit)   \n",
       "57       46.0  Big Breakfast with Hotcakes and Egg Whites (Re...   \n",
       "6        43.0                 Double Quarter Pounder with Cheese   \n",
       "52       41.0      Big Breakfast with Egg Whites (Large Biscuit)   \n",
       "\n",
       "    CONSUMER RATING HIT ITEM  \n",
       "92              4.2      Yes  \n",
       "54              3.3       No  \n",
       "90              4.2      Yes  \n",
       "55              3.1       No  \n",
       "50              3.2       No  \n",
       "56              3.5       No  \n",
       "51              3.1       No  \n",
       "57              3.6       No  \n",
       "6               2.0       No  \n",
       "52              3.4       No  "
      ]
     },
     "execution_count": 618,
     "metadata": {},
     "output_type": "execute_result"
    }
   ],
   "source": [
    "#these are the items with maximum amount of TOTAL FAT and their consumer rating.\n",
    "menu_updated[['TOTAL FAT','ITEM','CONSUMER RATING','HIT ITEM']].sort_values(by='TOTAL FAT', ascending=False).head(10)"
   ]
  },
  {
   "cell_type": "code",
   "execution_count": 619,
   "id": "d6a05bd9",
   "metadata": {},
   "outputs": [
    {
     "data": {
      "text/html": [
       "<div>\n",
       "<style scoped>\n",
       "    .dataframe tbody tr th:only-of-type {\n",
       "        vertical-align: middle;\n",
       "    }\n",
       "\n",
       "    .dataframe tbody tr th {\n",
       "        vertical-align: top;\n",
       "    }\n",
       "\n",
       "    .dataframe thead th {\n",
       "        text-align: right;\n",
       "    }\n",
       "</style>\n",
       "<table border=\"1\" class=\"dataframe\">\n",
       "  <thead>\n",
       "    <tr style=\"text-align: right;\">\n",
       "      <th></th>\n",
       "      <th>SODIUM</th>\n",
       "      <th>ITEM</th>\n",
       "      <th>CONSUMER RATING</th>\n",
       "      <th>HIT ITEM</th>\n",
       "    </tr>\n",
       "  </thead>\n",
       "  <tbody>\n",
       "    <tr>\n",
       "      <th>92</th>\n",
       "      <td>3600</td>\n",
       "      <td>Chicken McNuggets (40 piece)</td>\n",
       "      <td>4.2</td>\n",
       "      <td>Yes</td>\n",
       "    </tr>\n",
       "    <tr>\n",
       "      <th>56</th>\n",
       "      <td>2290</td>\n",
       "      <td>Big Breakfast with Hotcakes and Egg Whites (La...</td>\n",
       "      <td>3.5</td>\n",
       "      <td>No</td>\n",
       "    </tr>\n",
       "    <tr>\n",
       "      <th>54</th>\n",
       "      <td>2260</td>\n",
       "      <td>Big Breakfast with Hotcakes (Large Biscuit)</td>\n",
       "      <td>3.3</td>\n",
       "      <td>No</td>\n",
       "    </tr>\n",
       "    <tr>\n",
       "      <th>57</th>\n",
       "      <td>2170</td>\n",
       "      <td>Big Breakfast with Hotcakes and Egg Whites (Re...</td>\n",
       "      <td>3.6</td>\n",
       "      <td>No</td>\n",
       "    </tr>\n",
       "    <tr>\n",
       "      <th>55</th>\n",
       "      <td>2150</td>\n",
       "      <td>Big Breakfast with Hotcakes (Regular Biscuit)</td>\n",
       "      <td>3.1</td>\n",
       "      <td>No</td>\n",
       "    </tr>\n",
       "    <tr>\n",
       "      <th>90</th>\n",
       "      <td>1800</td>\n",
       "      <td>Chicken McNuggets (20 piece)</td>\n",
       "      <td>4.2</td>\n",
       "      <td>Yes</td>\n",
       "    </tr>\n",
       "    <tr>\n",
       "      <th>86</th>\n",
       "      <td>1720</td>\n",
       "      <td>Bacon Clubhouse Crispy Chicken Sandwich</td>\n",
       "      <td>4.5</td>\n",
       "      <td>Yes</td>\n",
       "    </tr>\n",
       "    <tr>\n",
       "      <th>52</th>\n",
       "      <td>1700</td>\n",
       "      <td>Big Breakfast with Egg Whites (Large Biscuit)</td>\n",
       "      <td>3.4</td>\n",
       "      <td>No</td>\n",
       "    </tr>\n",
       "    <tr>\n",
       "      <th>50</th>\n",
       "      <td>1680</td>\n",
       "      <td>Big Breakfast (Large Biscuit)</td>\n",
       "      <td>3.2</td>\n",
       "      <td>No</td>\n",
       "    </tr>\n",
       "    <tr>\n",
       "      <th>53</th>\n",
       "      <td>1590</td>\n",
       "      <td>Big Breakfast with Egg Whites (Regular Biscuit)</td>\n",
       "      <td>3.4</td>\n",
       "      <td>No</td>\n",
       "    </tr>\n",
       "  </tbody>\n",
       "</table>\n",
       "</div>"
      ],
      "text/plain": [
       "    SODIUM                                               ITEM  \\\n",
       "92    3600                       Chicken McNuggets (40 piece)   \n",
       "56    2290  Big Breakfast with Hotcakes and Egg Whites (La...   \n",
       "54    2260        Big Breakfast with Hotcakes (Large Biscuit)   \n",
       "57    2170  Big Breakfast with Hotcakes and Egg Whites (Re...   \n",
       "55    2150      Big Breakfast with Hotcakes (Regular Biscuit)   \n",
       "90    1800                       Chicken McNuggets (20 piece)   \n",
       "86    1720            Bacon Clubhouse Crispy Chicken Sandwich   \n",
       "52    1700      Big Breakfast with Egg Whites (Large Biscuit)   \n",
       "50    1680                      Big Breakfast (Large Biscuit)   \n",
       "53    1590    Big Breakfast with Egg Whites (Regular Biscuit)   \n",
       "\n",
       "    CONSUMER RATING HIT ITEM  \n",
       "92              4.2      Yes  \n",
       "56              3.5       No  \n",
       "54              3.3       No  \n",
       "57              3.6       No  \n",
       "55              3.1       No  \n",
       "90              4.2      Yes  \n",
       "86              4.5      Yes  \n",
       "52              3.4       No  \n",
       "50              3.2       No  \n",
       "53              3.4       No  "
      ]
     },
     "execution_count": 619,
     "metadata": {},
     "output_type": "execute_result"
    }
   ],
   "source": [
    "#these are the items with maximum amount of SODIUM and their consumer rating.\n",
    "menu[['SODIUM','ITEM','CONSUMER RATING','HIT ITEM']].sort_values(by='SODIUM', ascending=False).head(10)"
   ]
  },
  {
   "cell_type": "code",
   "execution_count": 1141,
   "id": "3d67e0d3",
   "metadata": {
    "scrolled": true
   },
   "outputs": [
    {
     "data": {
      "text/plain": [
       "<AxesSubplot:xlabel='CALORIES', ylabel='HIT ITEM'>"
      ]
     },
     "execution_count": 1141,
     "metadata": {},
     "output_type": "execute_result"
    },
    {
     "data": {
      "image/png": "[encoded data removed]",
      "text/plain": [
       "<Figure size 720x360 with 1 Axes>"
      ]
     },
     "metadata": {},
     "output_type": "display_data"
    }
   ],
   "source": [
    "# Compare nutrition facts between \"Hit items\" and \"Regular items\"\n",
    "\n",
    "# For calories,\n",
    "fig, ax = plt.subplots(1,1, figsize=(10,5))\n",
    "sns.boxenplot(menu[\"CALORIES\"], menu['HIT ITEM'], palette=[\"whitesmoke\", \"gray\"])\n",
    "\n",
    "# We can see \"Hit items\" have more calories than \"Regular items\""
   ]
  },
  {
   "cell_type": "code",
   "execution_count": 1142,
   "id": "385b89e9",
   "metadata": {
    "scrolled": true
   },
   "outputs": [
    {
     "data": {
      "text/plain": [
       "<AxesSubplot:xlabel='TOTAL FAT', ylabel='HIT ITEM'>"
      ]
     },
     "execution_count": 1142,
     "metadata": {},
     "output_type": "execute_result"
    },
    {
     "data": {
      "image/png": "[encoded data removed]",
      "text/plain": [
       "<Figure size 720x360 with 1 Axes>"
      ]
     },
     "metadata": {},
     "output_type": "display_data"
    }
   ],
   "source": [
    "# For total fat,\n",
    "fig, ax = plt.subplots(1,1, figsize=(10,5))\n",
    "sns.boxenplot(menu[\"TOTAL FAT\"], menu['HIT ITEM'], palette=[\"whitesmoke\", \"gray\"])\n",
    "\n",
    "# We can see \"Hit items\" have more fat than \"Regular items\""
   ]
  },
  {
   "cell_type": "code",
   "execution_count": 1143,
   "id": "1efca918",
   "metadata": {
    "scrolled": false
   },
   "outputs": [
    {
     "data": {
      "text/plain": [
       "<AxesSubplot:xlabel='CHOLESTEROL', ylabel='HIT ITEM'>"
      ]
     },
     "execution_count": 1143,
     "metadata": {},
     "output_type": "execute_result"
    },
    {
     "data": {
      "image/png": "[encoded data removed]",
      "text/plain": [
       "<Figure size 720x360 with 1 Axes>"
      ]
     },
     "metadata": {},
     "output_type": "display_data"
    }
   ],
   "source": [
    "# For cholesterol,\n",
    "fig, ax = plt.subplots(1,1, figsize=(10,5))\n",
    "sns.boxenplot(menu[\"CHOLESTEROL\"], menu['HIT ITEM'], palette=[\"whitesmoke\", \"gray\"])\n",
    "\n",
    "# We can see \"Hit items\" have more cholesterol than \"Regular items\""
   ]
  },
  {
   "cell_type": "markdown",
   "id": "0dadd980",
   "metadata": {},
   "source": [
    "# Analysis - Clustering (K Mean Clustering)"
   ]
  },
  {
   "cell_type": "code",
   "execution_count": 631,
   "id": "4dece02d",
   "metadata": {
    "scrolled": true
   },
   "outputs": [],
   "source": [
    "# In order to develop the product strategy for the company\n",
    "# we decided to cluster the entire menu so that we can have a detailed perspective on the menu\n",
    "\n",
    "\n",
    "# first, change the \"HIT ITEM\" data to numerical 0 and 1 (Hit = 1, No = 0)\n",
    "\n",
    "from scipy.stats import zscore, norm\n",
    "from sklearn.preprocessing import LabelEncoder\n",
    "\n",
    "enc = LabelEncoder()\n",
    "menu['HIT ITEM'] = enc.fit_transform(menu['HIT ITEM']).astype(int)"
   ]
  },
  {
   "cell_type": "code",
   "execution_count": 743,
   "id": "a023dcd4",
   "metadata": {
    "scrolled": true
   },
   "outputs": [
    {
     "name": "stdout",
     "output_type": "stream",
     "text": [
      "Independent variables are: (266, 13)\n",
      "Dependent variable is: (266,)\n"
     ]
    }
   ],
   "source": [
    "# divide the data into predictor and dependent variable\n",
    "\n",
    "X = menu.drop(['HIT ITEM',\"YEAR\", \"PRICE SEG\", \"SERVING SIZE\", \"SIZE UNIT\", 'CATEGORY','ITEM', 'TOTAL FAT (% DAILY VALUE)',\n",
    "              'SATURATED FAT (% DAILY VALUE)', 'CHOLESTEROL (% DAILY VALUE)', 'CALORIES FROM FAT',\n",
    "              'SODIUM (% DAILY VALUE)', 'CARBOHYDRATES (% DAILY VALUE)',\n",
    "              'DIETARY FIBER (% DAILY VALUE)', 'VITAMIN A (% DAILY VALUE)',\n",
    "              'VITAMIN C (% DAILY VALUE)', 'CALCIUM (% DAILY VALUE)',\n",
    "               'IRON (% DAILY VALUE)'], axis=1)\n",
    "print('Independent variables are:', X.shape)\n",
    "y = menu['HIT ITEM']\n",
    "print('Dependent variable is:',y.shape)"
   ]
  },
  {
   "cell_type": "code",
   "execution_count": 744,
   "id": "fdf0fa57",
   "metadata": {},
   "outputs": [],
   "source": [
    "# Change data type of variables for the purpose of the analysis efficiency\n",
    "X['CALORIES'] = X['CALORIES'].astype(float)\n",
    "X['PRICE'] = X['PRICE'].astype(float)\n",
    "X['CONSUMER RATING'] = X['CONSUMER RATING'].astype(float)\n",
    "X['CHOLESTEROL'] = X['CHOLESTEROL'].astype(float)\n",
    "X['SODIUM'] = X['SODIUM'].astype(float)\n",
    "X['CARBOHYDRATES'] = X['CARBOHYDRATES'].astype(float)\n",
    "X['DIETARY FIBER'] = X['DIETARY FIBER'].astype(float)\n",
    "X['SUGARS'] = X['SUGARS'].astype(float)\n",
    "X['PROTEIN'] = X['PROTEIN'].astype(float)"
   ]
  },
  {
   "cell_type": "code",
   "execution_count": 745,
   "id": "53fc6d2b",
   "metadata": {},
   "outputs": [
    {
     "name": "stdout",
     "output_type": "stream",
     "text": [
      "*******Details of column before standardising:********\n",
      "                  count        mean         std   min     25%     50%     75%  \\\n",
      "PRICE            266.0    3.126353    1.491650  0.89    2.00    2.79    3.59   \n",
      "CONSUMER RATING  266.0    3.861654    0.648856  2.00    3.40    3.90    4.30   \n",
      "CALORIES         266.0  363.308271  239.776143  0.00  200.00  335.00  480.00   \n",
      "TOTAL FAT        266.0   13.973684   14.100424  0.00    3.50   11.00   22.00   \n",
      "SATURATED FAT    266.0    5.924812    5.289183  0.00    1.50    5.00    9.75   \n",
      "TRANS FAT        266.0    0.199248    0.425329  0.00    0.00    0.00    0.00   \n",
      "CHOLESTEROL      266.0   53.928571   86.534313  0.00    5.00   30.00   65.00   \n",
      "SODIUM           266.0  487.781955  572.864176  0.00  111.25  185.00  857.50   \n",
      "CARBOHYDRATES    266.0   46.778195   28.180544  0.00   30.00   43.50   60.00   \n",
      "DIETARY FIBER    266.0    1.616541    1.552706  0.00    0.00    1.00    2.75   \n",
      "SUGARS           266.0   29.045113   28.462319  0.00    6.00   16.50   47.75   \n",
      "PROTEIN          266.0   13.082707   11.421294  0.00    3.00   12.00   18.00   \n",
      "Tier             266.0    0.917293    1.253193  0.00    0.00    0.00    2.00   \n",
      "\n",
      "                     max  \n",
      "PRICE              11.69  \n",
      "CONSUMER RATING     5.00  \n",
      "CALORIES         1880.00  \n",
      "TOTAL FAT         118.00  \n",
      "SATURATED FAT      20.00  \n",
      "TRANS FAT           2.50  \n",
      "CHOLESTEROL       575.00  \n",
      "SODIUM           3600.00  \n",
      "CARBOHYDRATES     141.00  \n",
      "DIETARY FIBER       7.00  \n",
      "SUGARS            128.00  \n",
      "PROTEIN            87.00  \n",
      "Tier                3.00  \n",
      "\n",
      "\n",
      "*******Details of column AFTER standardising:********\n",
      "                  count          mean       std       min       25%       50%  \\\n",
      "PRICE            266.0  1.915761e-16  1.001885 -1.502074 -0.756529 -0.225916   \n",
      "CONSUMER RATING  266.0 -2.011758e-16  1.001885 -2.874540 -0.712830  0.059209   \n",
      "CALORIES         266.0 -1.293869e-17  1.001885 -1.518054 -0.682370 -0.118284   \n",
      "TOTAL FAT        266.0  8.472755e-17  1.001885 -0.992880 -0.744192 -0.211291   \n",
      "SATURATED FAT    266.0  6.844984e-17  1.001885 -1.122287 -0.838155 -0.175179   \n",
      "TRANS FAT        266.0 -6.260656e-18  1.001885 -0.469339 -0.469339 -0.469339   \n",
      "CHOLESTEROL      266.0  1.402387e-16  1.001885 -0.624379 -0.566490 -0.277042   \n",
      "SODIUM           266.0 -7.053673e-17  1.001885 -0.853084 -0.658519 -0.529537   \n",
      "CARBOHYDRATES    266.0 -1.381518e-16  1.001885 -1.663076 -0.596505 -0.116548   \n",
      "DIETARY FIBER    266.0  1.194742e-16  1.001885 -1.043075 -1.043075 -0.397824   \n",
      "SUGARS           266.0  3.372407e-16  1.001885 -1.022400 -0.811197 -0.441593   \n",
      "PROTEIN          266.0 -3.030158e-16  1.001885 -1.147625 -0.884463 -0.094976   \n",
      "Tier             266.0 -3.297279e-16  1.001885 -0.733345 -0.733345 -0.733345   \n",
      "\n",
      "                      75%       max  \n",
      "PRICE            0.311414  5.751877  \n",
      "CONSUMER RATING  0.676840  1.757695  \n",
      "CALORIES         0.487587  6.337372  \n",
      "TOTAL FAT        0.570298  7.391438  \n",
      "SATURATED FAT    0.724573  2.666143  \n",
      "TRANS FAT       -0.469339  5.419538  \n",
      "CHOLESTEROL      0.128184  6.032909  \n",
      "SODIUM           0.646602  5.442974  \n",
      "CARBOHYDRATES    0.470066  3.349808  \n",
      "DIETARY FIBER    0.731365  3.473682  \n",
      "SUGARS           0.658420  3.483252  \n",
      "PROTEIN          0.431349  6.484084  \n",
      "Tier             0.865587  1.665053  \n"
     ]
    }
   ],
   "source": [
    "# Now, Using Standard Scaler to standardize the values of each column. \n",
    "# This is required in order to bring the input variables on same scale, \n",
    "# which might be on different scales in the raw form\n",
    "\n",
    "print('*******Details of column before standardising:********\\n', X.describe().T)\n",
    "\n",
    "X_std = pd.DataFrame(StandardScaler().fit_transform(X))\n",
    "X_std.columns = X.columns #the column names are passed to the standardized dataframe\n",
    "print('\\n')\n",
    "print('*******Details of column AFTER standardising:********\\n', X_std.describe().T)"
   ]
  },
  {
   "cell_type": "code",
   "execution_count": 746,
   "id": "2609d151",
   "metadata": {},
   "outputs": [
    {
     "name": "stderr",
     "output_type": "stream",
     "text": [
      "C:\\Users\\jwshin\\Anaconda3\\lib\\site-packages\\sklearn\\cluster\\_kmeans.py:1036: UserWarning: KMeans is known to have a memory leak on Windows with MKL, when there are less chunks than available threads. You can avoid it by setting the environment variable OMP_NUM_THREADS=2.\n",
      "  warnings.warn(\n"
     ]
    },
    {
     "data": {
      "text/plain": [
       "Text(0.5, 1.0, 'Selecting k with the Elbow Method')"
      ]
     },
     "execution_count": 746,
     "metadata": {},
     "output_type": "execute_result"
    },
    {
     "data": {
      "image/png": "[encoded data removed]",
      "text/plain": [
       "<Figure size 640x480 with 1 Axes>"
      ]
     },
     "metadata": {},
     "output_type": "display_data"
    }
   ],
   "source": [
    "# We'll now be performing unsupervised learning method on our dataset and make clusters of like minded Customers.\n",
    "# We'll be using Kmeans algorithm to cluster the data:\n",
    "\n",
    "# we have already standardised the data:\n",
    "# we will find the best k value from the elbow method:\n",
    "\n",
    "# now, for K-means clustering, we'll try to find the best number for 'K'.\n",
    "from scipy.spatial.distance import cdist\n",
    "from sklearn.cluster import KMeans\n",
    "\n",
    "\n",
    "from scipy.spatial.distance import cdist\n",
    "clusters=range(1,10)\n",
    "meanDistortions=[]\n",
    "\n",
    "for k in clusters:\n",
    "    model=KMeans(n_clusters=k)\n",
    "    model.fit(X_std)\n",
    "    prediction=model.predict(X_std)\n",
    "    meanDistortions.append(sum(np.min(cdist(X_std, model.cluster_centers_, 'euclidean'), axis=1)) / \n",
    "                           X_std.shape[0])\n",
    "\n",
    "\n",
    "plt.plot(clusters, meanDistortions, 'bx-')\n",
    "plt.xlabel('k')\n",
    "plt.ylabel('Average distortion')\n",
    "plt.title('Selecting k with the Elbow Method', fontsize=20)"
   ]
  },
  {
   "cell_type": "code",
   "execution_count": 747,
   "id": "a93328c2",
   "metadata": {},
   "outputs": [
    {
     "name": "stdout",
     "output_type": "stream",
     "text": [
      "Groups Assigned : \n",
      "\n"
     ]
    },
    {
     "data": {
      "text/html": [
       "<div>\n",
       "<style scoped>\n",
       "    .dataframe tbody tr th:only-of-type {\n",
       "        vertical-align: middle;\n",
       "    }\n",
       "\n",
       "    .dataframe tbody tr th {\n",
       "        vertical-align: top;\n",
       "    }\n",
       "\n",
       "    .dataframe thead th {\n",
       "        text-align: right;\n",
       "    }\n",
       "</style>\n",
       "<table border=\"1\" class=\"dataframe\">\n",
       "  <thead>\n",
       "    <tr style=\"text-align: right;\">\n",
       "      <th></th>\n",
       "      <th>PRICE</th>\n",
       "      <th>CONSUMER RATING</th>\n",
       "      <th>CALORIES</th>\n",
       "      <th>TOTAL FAT</th>\n",
       "      <th>SATURATED FAT</th>\n",
       "      <th>TRANS FAT</th>\n",
       "      <th>CHOLESTEROL</th>\n",
       "      <th>SODIUM</th>\n",
       "      <th>CARBOHYDRATES</th>\n",
       "      <th>DIETARY FIBER</th>\n",
       "      <th>SUGARS</th>\n",
       "      <th>PROTEIN</th>\n",
       "      <th>Tier</th>\n",
       "      <th>Pred</th>\n",
       "    </tr>\n",
       "  </thead>\n",
       "  <tbody>\n",
       "    <tr>\n",
       "      <th>239</th>\n",
       "      <td>-0.964744</td>\n",
       "      <td>1.140064</td>\n",
       "      <td>-0.097392</td>\n",
       "      <td>-0.211291</td>\n",
       "      <td>0.014242</td>\n",
       "      <td>-0.469339</td>\n",
       "      <td>-0.277042</td>\n",
       "      <td>-0.520792</td>\n",
       "      <td>0.221200</td>\n",
       "      <td>-0.397824</td>\n",
       "      <td>0.491218</td>\n",
       "      <td>-0.445859</td>\n",
       "      <td>-0.733345</td>\n",
       "      <td>0</td>\n",
       "    </tr>\n",
       "    <tr>\n",
       "      <th>234</th>\n",
       "      <td>-0.494581</td>\n",
       "      <td>-0.404014</td>\n",
       "      <td>2.367875</td>\n",
       "      <td>1.351887</td>\n",
       "      <td>2.666143</td>\n",
       "      <td>1.886212</td>\n",
       "      <td>0.243963</td>\n",
       "      <td>-0.398369</td>\n",
       "      <td>3.278703</td>\n",
       "      <td>0.247427</td>\n",
       "      <td>3.483252</td>\n",
       "      <td>0.606790</td>\n",
       "      <td>0.066121</td>\n",
       "      <td>1</td>\n",
       "    </tr>\n",
       "    <tr>\n",
       "      <th>82</th>\n",
       "      <td>0.445746</td>\n",
       "      <td>1.294472</td>\n",
       "      <td>0.278666</td>\n",
       "      <td>0.641352</td>\n",
       "      <td>0.582507</td>\n",
       "      <td>1.886212</td>\n",
       "      <td>2.848989</td>\n",
       "      <td>0.825864</td>\n",
       "      <td>-0.560952</td>\n",
       "      <td>1.537929</td>\n",
       "      <td>-0.916798</td>\n",
       "      <td>1.133115</td>\n",
       "      <td>1.665053</td>\n",
       "      <td>1</td>\n",
       "    </tr>\n",
       "    <tr>\n",
       "      <th>65</th>\n",
       "      <td>1.789070</td>\n",
       "      <td>-0.404014</td>\n",
       "      <td>0.654724</td>\n",
       "      <td>0.712405</td>\n",
       "      <td>0.203664</td>\n",
       "      <td>-0.469339</td>\n",
       "      <td>-0.045485</td>\n",
       "      <td>0.773397</td>\n",
       "      <td>0.505619</td>\n",
       "      <td>0.892678</td>\n",
       "      <td>-0.529594</td>\n",
       "      <td>0.168186</td>\n",
       "      <td>1.665053</td>\n",
       "      <td>1</td>\n",
       "    </tr>\n",
       "    <tr>\n",
       "      <th>46</th>\n",
       "      <td>1.815937</td>\n",
       "      <td>-0.712830</td>\n",
       "      <td>0.445803</td>\n",
       "      <td>0.783459</td>\n",
       "      <td>1.150771</td>\n",
       "      <td>-0.469339</td>\n",
       "      <td>-0.219153</td>\n",
       "      <td>1.630361</td>\n",
       "      <td>-0.169876</td>\n",
       "      <td>0.892678</td>\n",
       "      <td>-0.881598</td>\n",
       "      <td>0.606790</td>\n",
       "      <td>1.665053</td>\n",
       "      <td>1</td>\n",
       "    </tr>\n",
       "  </tbody>\n",
       "</table>\n",
       "</div>"
      ],
      "text/plain": [
       "        PRICE  CONSUMER RATING  CALORIES  TOTAL FAT  SATURATED FAT  TRANS FAT  \\\n",
       "239 -0.964744         1.140064 -0.097392  -0.211291       0.014242  -0.469339   \n",
       "234 -0.494581        -0.404014  2.367875   1.351887       2.666143   1.886212   \n",
       "82   0.445746         1.294472  0.278666   0.641352       0.582507   1.886212   \n",
       "65   1.789070        -0.404014  0.654724   0.712405       0.203664  -0.469339   \n",
       "46   1.815937        -0.712830  0.445803   0.783459       1.150771  -0.469339   \n",
       "\n",
       "     CHOLESTEROL    SODIUM  CARBOHYDRATES  DIETARY FIBER    SUGARS   PROTEIN  \\\n",
       "239    -0.277042 -0.520792       0.221200      -0.397824  0.491218 -0.445859   \n",
       "234     0.243963 -0.398369       3.278703       0.247427  3.483252  0.606790   \n",
       "82      2.848989  0.825864      -0.560952       1.537929 -0.916798  1.133115   \n",
       "65     -0.045485  0.773397       0.505619       0.892678 -0.529594  0.168186   \n",
       "46     -0.219153  1.630361      -0.169876       0.892678 -0.881598  0.606790   \n",
       "\n",
       "         Tier  Pred  \n",
       "239 -0.733345     0  \n",
       "234  0.066121     1  \n",
       "82   1.665053     1  \n",
       "65   1.665053     1  \n",
       "46   1.665053     1  "
      ]
     },
     "execution_count": 747,
     "metadata": {},
     "output_type": "execute_result"
    }
   ],
   "source": [
    "# from above graph, we can see that the best values of K can either be 2, 3 or 4 \n",
    "# we'll use both values for models and find the best fit :)\n",
    "\n",
    "# first, check the case with k=2\n",
    "final_model=KMeans(2)\n",
    "final_model.fit(X_std)\n",
    "prediction=final_model.predict(X_std)\n",
    "\n",
    "#Appending the predictions to the dataset \n",
    "#X_std[\"Pred\"] = prediction\n",
    "X_std[\"Pred\"] = prediction\n",
    "print(\"Groups Assigned : \\n\")\n",
    "X_std.sample(5)"
   ]
  },
  {
   "cell_type": "code",
   "execution_count": 748,
   "id": "09d919fd",
   "metadata": {},
   "outputs": [],
   "source": [
    "#pred values in array\n",
    "lables = final_model.labels_"
   ]
  },
  {
   "cell_type": "code",
   "execution_count": 749,
   "id": "22e2de4c",
   "metadata": {
    "scrolled": true
   },
   "outputs": [
    {
     "name": "stdout",
     "output_type": "stream",
     "text": [
      "The score of K=2 clustering from Silhouette cofficient metric comes out to be:\n",
      " 0.38730253726474173\n"
     ]
    }
   ],
   "source": [
    "# Calculate the Silhouttee coefficient of K=2 model to measure the performance\n",
    "\n",
    "from sklearn.metrics import silhouette_samples, silhouette_score\n",
    "silhouette_score(X_std,lables)\n",
    "print('The score of K=2 clustering from Silhouette cofficient metric comes out to be:\\n',\n",
    "      silhouette_score(X_std,lables) )\n"
   ]
  },
  {
   "cell_type": "code",
   "execution_count": 750,
   "id": "2b22c729",
   "metadata": {
    "scrolled": true
   },
   "outputs": [
    {
     "name": "stdout",
     "output_type": "stream",
     "text": [
      "Groups Assigned : \n",
      "\n"
     ]
    },
    {
     "data": {
      "text/html": [
       "<div>\n",
       "<style scoped>\n",
       "    .dataframe tbody tr th:only-of-type {\n",
       "        vertical-align: middle;\n",
       "    }\n",
       "\n",
       "    .dataframe tbody tr th {\n",
       "        vertical-align: top;\n",
       "    }\n",
       "\n",
       "    .dataframe thead th {\n",
       "        text-align: right;\n",
       "    }\n",
       "</style>\n",
       "<table border=\"1\" class=\"dataframe\">\n",
       "  <thead>\n",
       "    <tr style=\"text-align: right;\">\n",
       "      <th></th>\n",
       "      <th>PRICE</th>\n",
       "      <th>CONSUMER RATING</th>\n",
       "      <th>CALORIES</th>\n",
       "      <th>TOTAL FAT</th>\n",
       "      <th>SATURATED FAT</th>\n",
       "      <th>TRANS FAT</th>\n",
       "      <th>CHOLESTEROL</th>\n",
       "      <th>SODIUM</th>\n",
       "      <th>CARBOHYDRATES</th>\n",
       "      <th>DIETARY FIBER</th>\n",
       "      <th>SUGARS</th>\n",
       "      <th>PROTEIN</th>\n",
       "      <th>Tier</th>\n",
       "      <th>Pred</th>\n",
       "    </tr>\n",
       "  </thead>\n",
       "  <tbody>\n",
       "    <tr>\n",
       "      <th>160</th>\n",
       "      <td>-0.158750</td>\n",
       "      <td>-1.021646</td>\n",
       "      <td>-0.306313</td>\n",
       "      <td>-0.637612</td>\n",
       "      <td>-0.459312</td>\n",
       "      <td>-0.469339</td>\n",
       "      <td>-0.392821</td>\n",
       "      <td>-0.590749</td>\n",
       "      <td>0.114543</td>\n",
       "      <td>-0.397824</td>\n",
       "      <td>0.491218</td>\n",
       "      <td>-0.270417</td>\n",
       "      <td>-0.733345</td>\n",
       "      <td>2</td>\n",
       "    </tr>\n",
       "    <tr>\n",
       "      <th>196</th>\n",
       "      <td>0.512912</td>\n",
       "      <td>-1.484869</td>\n",
       "      <td>-0.598802</td>\n",
       "      <td>-0.957353</td>\n",
       "      <td>-1.122287</td>\n",
       "      <td>-0.469339</td>\n",
       "      <td>-0.508600</td>\n",
       "      <td>-0.433347</td>\n",
       "      <td>-0.312086</td>\n",
       "      <td>0.247427</td>\n",
       "      <td>-0.283191</td>\n",
       "      <td>0.255907</td>\n",
       "      <td>-0.733345</td>\n",
       "      <td>2</td>\n",
       "    </tr>\n",
       "    <tr>\n",
       "      <th>183</th>\n",
       "      <td>-0.494581</td>\n",
       "      <td>-1.021646</td>\n",
       "      <td>-0.682370</td>\n",
       "      <td>-0.992880</td>\n",
       "      <td>-1.122287</td>\n",
       "      <td>-0.469339</td>\n",
       "      <td>-0.566490</td>\n",
       "      <td>-0.660705</td>\n",
       "      <td>-0.205429</td>\n",
       "      <td>-0.397824</td>\n",
       "      <td>0.350416</td>\n",
       "      <td>-0.270417</td>\n",
       "      <td>-0.733345</td>\n",
       "      <td>2</td>\n",
       "    </tr>\n",
       "    <tr>\n",
       "      <th>149</th>\n",
       "      <td>-0.561747</td>\n",
       "      <td>-2.720132</td>\n",
       "      <td>-0.348097</td>\n",
       "      <td>-0.744192</td>\n",
       "      <td>-0.743444</td>\n",
       "      <td>-0.469339</td>\n",
       "      <td>-0.450711</td>\n",
       "      <td>-0.538281</td>\n",
       "      <td>0.114543</td>\n",
       "      <td>-0.397824</td>\n",
       "      <td>0.596819</td>\n",
       "      <td>-0.094976</td>\n",
       "      <td>-0.733345</td>\n",
       "      <td>2</td>\n",
       "    </tr>\n",
       "    <tr>\n",
       "      <th>222</th>\n",
       "      <td>0.848744</td>\n",
       "      <td>-0.095199</td>\n",
       "      <td>-0.933075</td>\n",
       "      <td>-0.673139</td>\n",
       "      <td>-0.743444</td>\n",
       "      <td>-0.469339</td>\n",
       "      <td>-0.508600</td>\n",
       "      <td>-0.590749</td>\n",
       "      <td>-0.952028</td>\n",
       "      <td>2.828431</td>\n",
       "      <td>-0.811197</td>\n",
       "      <td>-0.621301</td>\n",
       "      <td>-0.733345</td>\n",
       "      <td>2</td>\n",
       "    </tr>\n",
       "  </tbody>\n",
       "</table>\n",
       "</div>"
      ],
      "text/plain": [
       "        PRICE  CONSUMER RATING  CALORIES  TOTAL FAT  SATURATED FAT  TRANS FAT  \\\n",
       "160 -0.158750        -1.021646 -0.306313  -0.637612      -0.459312  -0.469339   \n",
       "196  0.512912        -1.484869 -0.598802  -0.957353      -1.122287  -0.469339   \n",
       "183 -0.494581        -1.021646 -0.682370  -0.992880      -1.122287  -0.469339   \n",
       "149 -0.561747        -2.720132 -0.348097  -0.744192      -0.743444  -0.469339   \n",
       "222  0.848744        -0.095199 -0.933075  -0.673139      -0.743444  -0.469339   \n",
       "\n",
       "     CHOLESTEROL    SODIUM  CARBOHYDRATES  DIETARY FIBER    SUGARS   PROTEIN  \\\n",
       "160    -0.392821 -0.590749       0.114543      -0.397824  0.491218 -0.270417   \n",
       "196    -0.508600 -0.433347      -0.312086       0.247427 -0.283191  0.255907   \n",
       "183    -0.566490 -0.660705      -0.205429      -0.397824  0.350416 -0.270417   \n",
       "149    -0.450711 -0.538281       0.114543      -0.397824  0.596819 -0.094976   \n",
       "222    -0.508600 -0.590749      -0.952028       2.828431 -0.811197 -0.621301   \n",
       "\n",
       "         Tier  Pred  \n",
       "160 -0.733345     2  \n",
       "196 -0.733345     2  \n",
       "183 -0.733345     2  \n",
       "149 -0.733345     2  \n",
       "222 -0.733345     2  "
      ]
     },
     "execution_count": 750,
     "metadata": {},
     "output_type": "execute_result"
    }
   ],
   "source": [
    "# Now, move on to the case with k=3\n",
    "final_model=KMeans(3)\n",
    "final_model.fit(X_std)\n",
    "prediction=final_model.predict(X_std)\n",
    "\n",
    "#Appending the predictions to the dataset \n",
    "#X_std[\"Pred\"] = prediction\n",
    "X_std[\"Pred\"] = prediction\n",
    "print(\"Groups Assigned : \\n\")\n",
    "X_std.sample(5)"
   ]
  },
  {
   "cell_type": "code",
   "execution_count": 751,
   "id": "59d1e360",
   "metadata": {},
   "outputs": [
    {
     "name": "stdout",
     "output_type": "stream",
     "text": [
      "The score of K=3 clustering from Silhouette cofficient metric comes out to be:\n",
      " 0.3935410805096353\n"
     ]
    }
   ],
   "source": [
    "# Calculate the Silhouttee coefficient of K=3 model to measure the performance\n",
    "\n",
    "from sklearn.metrics import silhouette_samples, silhouette_score\n",
    "silhouette_score(X_std,lables)\n",
    "print('The score of K=3 clustering from Silhouette cofficient metric comes out to be:\\n',\n",
    "      silhouette_score(X_std,lables) )"
   ]
  },
  {
   "cell_type": "code",
   "execution_count": 752,
   "id": "c6c102c2",
   "metadata": {
    "scrolled": true
   },
   "outputs": [
    {
     "name": "stdout",
     "output_type": "stream",
     "text": [
      "Groups Assigned : \n",
      "\n"
     ]
    },
    {
     "data": {
      "text/html": [
       "<div>\n",
       "<style scoped>\n",
       "    .dataframe tbody tr th:only-of-type {\n",
       "        vertical-align: middle;\n",
       "    }\n",
       "\n",
       "    .dataframe tbody tr th {\n",
       "        vertical-align: top;\n",
       "    }\n",
       "\n",
       "    .dataframe thead th {\n",
       "        text-align: right;\n",
       "    }\n",
       "</style>\n",
       "<table border=\"1\" class=\"dataframe\">\n",
       "  <thead>\n",
       "    <tr style=\"text-align: right;\">\n",
       "      <th></th>\n",
       "      <th>PRICE</th>\n",
       "      <th>CONSUMER RATING</th>\n",
       "      <th>CALORIES</th>\n",
       "      <th>TOTAL FAT</th>\n",
       "      <th>SATURATED FAT</th>\n",
       "      <th>TRANS FAT</th>\n",
       "      <th>CHOLESTEROL</th>\n",
       "      <th>SODIUM</th>\n",
       "      <th>CARBOHYDRATES</th>\n",
       "      <th>DIETARY FIBER</th>\n",
       "      <th>SUGARS</th>\n",
       "      <th>PROTEIN</th>\n",
       "      <th>Tier</th>\n",
       "      <th>Pred</th>\n",
       "    </tr>\n",
       "  </thead>\n",
       "  <tbody>\n",
       "    <tr>\n",
       "      <th>126</th>\n",
       "      <td>-0.084867</td>\n",
       "      <td>-0.558422</td>\n",
       "      <td>1.657544</td>\n",
       "      <td>1.209780</td>\n",
       "      <td>2.666143</td>\n",
       "      <td>3.063987</td>\n",
       "      <td>0.475521</td>\n",
       "      <td>-0.503303</td>\n",
       "      <td>2.283237</td>\n",
       "      <td>-0.397824</td>\n",
       "      <td>2.462440</td>\n",
       "      <td>-0.094976</td>\n",
       "      <td>0.066121</td>\n",
       "      <td>2</td>\n",
       "    </tr>\n",
       "    <tr>\n",
       "      <th>255</th>\n",
       "      <td>-1.031910</td>\n",
       "      <td>-0.867238</td>\n",
       "      <td>-0.431665</td>\n",
       "      <td>-0.424451</td>\n",
       "      <td>-0.459312</td>\n",
       "      <td>-0.469339</td>\n",
       "      <td>-0.161264</td>\n",
       "      <td>0.371149</td>\n",
       "      <td>-0.596505</td>\n",
       "      <td>-0.397824</td>\n",
       "      <td>-0.775997</td>\n",
       "      <td>0.255907</td>\n",
       "      <td>-0.733345</td>\n",
       "      <td>0</td>\n",
       "    </tr>\n",
       "    <tr>\n",
       "      <th>46</th>\n",
       "      <td>1.815937</td>\n",
       "      <td>-0.712830</td>\n",
       "      <td>0.445803</td>\n",
       "      <td>0.783459</td>\n",
       "      <td>1.150771</td>\n",
       "      <td>-0.469339</td>\n",
       "      <td>-0.219153</td>\n",
       "      <td>1.630361</td>\n",
       "      <td>-0.169876</td>\n",
       "      <td>0.892678</td>\n",
       "      <td>-0.881598</td>\n",
       "      <td>0.606790</td>\n",
       "      <td>1.665053</td>\n",
       "      <td>3</td>\n",
       "    </tr>\n",
       "    <tr>\n",
       "      <th>194</th>\n",
       "      <td>-0.158750</td>\n",
       "      <td>-1.176054</td>\n",
       "      <td>-0.974860</td>\n",
       "      <td>-0.992880</td>\n",
       "      <td>-1.122287</td>\n",
       "      <td>-0.469339</td>\n",
       "      <td>-0.566490</td>\n",
       "      <td>-0.616982</td>\n",
       "      <td>-0.987581</td>\n",
       "      <td>-0.397824</td>\n",
       "      <td>-0.459193</td>\n",
       "      <td>-0.094976</td>\n",
       "      <td>-0.733345</td>\n",
       "      <td>0</td>\n",
       "    </tr>\n",
       "    <tr>\n",
       "      <th>3</th>\n",
       "      <td>-0.964744</td>\n",
       "      <td>-0.558422</td>\n",
       "      <td>-0.306313</td>\n",
       "      <td>-0.211291</td>\n",
       "      <td>-0.175179</td>\n",
       "      <td>0.708436</td>\n",
       "      <td>-0.103374</td>\n",
       "      <td>0.336171</td>\n",
       "      <td>-0.489847</td>\n",
       "      <td>0.247427</td>\n",
       "      <td>-0.775997</td>\n",
       "      <td>0.168186</td>\n",
       "      <td>-0.733345</td>\n",
       "      <td>0</td>\n",
       "    </tr>\n",
       "  </tbody>\n",
       "</table>\n",
       "</div>"
      ],
      "text/plain": [
       "        PRICE  CONSUMER RATING  CALORIES  TOTAL FAT  SATURATED FAT  TRANS FAT  \\\n",
       "126 -0.084867        -0.558422  1.657544   1.209780       2.666143   3.063987   \n",
       "255 -1.031910        -0.867238 -0.431665  -0.424451      -0.459312  -0.469339   \n",
       "46   1.815937        -0.712830  0.445803   0.783459       1.150771  -0.469339   \n",
       "194 -0.158750        -1.176054 -0.974860  -0.992880      -1.122287  -0.469339   \n",
       "3   -0.964744        -0.558422 -0.306313  -0.211291      -0.175179   0.708436   \n",
       "\n",
       "     CHOLESTEROL    SODIUM  CARBOHYDRATES  DIETARY FIBER    SUGARS   PROTEIN  \\\n",
       "126     0.475521 -0.503303       2.283237      -0.397824  2.462440 -0.094976   \n",
       "255    -0.161264  0.371149      -0.596505      -0.397824 -0.775997  0.255907   \n",
       "46     -0.219153  1.630361      -0.169876       0.892678 -0.881598  0.606790   \n",
       "194    -0.566490 -0.616982      -0.987581      -0.397824 -0.459193 -0.094976   \n",
       "3      -0.103374  0.336171      -0.489847       0.247427 -0.775997  0.168186   \n",
       "\n",
       "         Tier  Pred  \n",
       "126  0.066121     2  \n",
       "255 -0.733345     0  \n",
       "46   1.665053     3  \n",
       "194 -0.733345     0  \n",
       "3   -0.733345     0  "
      ]
     },
     "execution_count": 752,
     "metadata": {},
     "output_type": "execute_result"
    }
   ],
   "source": [
    "# Lastly, run the model with k=4\n",
    "final_model=KMeans(4)\n",
    "final_model.fit(X_std)\n",
    "prediction=final_model.predict(X_std)\n",
    "\n",
    "#Appending the predictions to the dataset \n",
    "#X_std[\"Pred\"] = prediction\n",
    "X_std[\"Pred\"] = prediction\n",
    "print(\"Groups Assigned : \\n\")\n",
    "X_std.sample(5)"
   ]
  },
  {
   "cell_type": "code",
   "execution_count": 753,
   "id": "fa6fda1f",
   "metadata": {},
   "outputs": [
    {
     "name": "stdout",
     "output_type": "stream",
     "text": [
      "The score of K=4 clustering from Silhouette cofficient metric comes out to be:\n",
      " 0.434532971754067\n"
     ]
    }
   ],
   "source": [
    "# Calculate the Silhouttee coefficient of K=4 model to measure the performance\n",
    "\n",
    "from sklearn.metrics import silhouette_samples, silhouette_score\n",
    "silhouette_score(X_std,lables)\n",
    "print('The score of K=4 clustering from Silhouette cofficient metric comes out to be:\\n',\n",
    "      silhouette_score(X_std,lables) )\n",
    "\n",
    "# As can be seen above, the model performance is best when K=4"
   ]
  },
  {
   "cell_type": "code",
   "execution_count": 754,
   "id": "80407c45",
   "metadata": {},
   "outputs": [
    {
     "data": {
      "image/png": "[encoded data removed]",
      "text/plain": [
       "<Figure size 1000x800 with 1 Axes>"
      ]
     },
     "metadata": {},
     "output_type": "display_data"
    }
   ],
   "source": [
    "# Plot the entire data with each cluster indicated\n",
    "plt.figure(figsize=(10, 8))\n",
    "sns.scatterplot(x=\"CARBOHYDRATES\", y=\"PROTEIN\", hue=\"Pred\",\n",
    "              data=X_std, palette=['red','blue','green','yellow']);"
   ]
  },
  {
   "cell_type": "code",
   "execution_count": 755,
   "id": "d652419f",
   "metadata": {},
   "outputs": [],
   "source": [
    "# Create a column named \"TIER\" indicating assigned cluster of each menu\n",
    "menu[\"TIER\"]=X_std[\"Pred\"]"
   ]
  },
  {
   "cell_type": "code",
   "execution_count": 767,
   "id": "0b8a1148",
   "metadata": {
    "scrolled": false
   },
   "outputs": [
    {
     "name": "stderr",
     "output_type": "stream",
     "text": [
      "C:\\Users\\jwshin\\AppData\\Local\\Temp\\ipykernel_1724\\2585620560.py:11: SettingWithCopyWarning: \n",
      "A value is trying to be set on a copy of a slice from a DataFrame\n",
      "\n",
      "See the caveats in the documentation: https://pandas.pydata.org/pandas-docs/stable/user_guide/indexing.html#returning-a-view-versus-a-copy\n",
      "  menu[\"TIER\"][i] = \"1st\"\n"
     ]
    }
   ],
   "source": [
    "# Based on the mean value of \"PRICE\" and \"CONSUMER RATING\"\n",
    "# rename each cluster for the purpose of the analysis efficiency\n",
    "\n",
    "menu.groupby(\"TIER\")[\"PRICE\"].mean()\n",
    "menu.groupby(\"TIER\")[\"CONSUMER RATING\"].mean()\n",
    "\n",
    "# for each cluster name assigned,\n",
    "# 3 -> 1st tier, 2 -> 2nd tier, 1 -> 3rd tier, 0 -> 4th tier\n",
    "for i in range(len(menu)):\n",
    "    if menu[\"TIER\"][i] == 3:\n",
    "        menu[\"TIER\"][i] = \"1st\"\n",
    "    elif menu[\"TIER\"][i] == 1:\n",
    "        menu[\"TIER\"][i] = \"2nd\"\n",
    "    elif menu[\"TIER\"][i] == 2:\n",
    "        menu[\"TIER\"][i] = \"3rd\"\n",
    "    else:\n",
    "        menu[\"TIER\"][i] = \"4th\"\n",
    "    \n",
    "# 1st tier items have both high consumer preference and price\n",
    "# 2nd tier items have low consumer preference and high price\n",
    "# 3rd tier items have high consumer preference and low price\n",
    "# 4th tier items have low consumer preference and low price"
   ]
  },
  {
   "cell_type": "code",
   "execution_count": 779,
   "id": "dd840167",
   "metadata": {},
   "outputs": [
    {
     "data": {
      "text/plain": [
       "1st     68\n",
       "2nd      8\n",
       "3rd     31\n",
       "4th    159\n",
       "Name: TIER, dtype: int64"
      ]
     },
     "execution_count": 779,
     "metadata": {},
     "output_type": "execute_result"
    }
   ],
   "source": [
    "# The current distribution of tiers is as below\n",
    "menu[\"TIER\"].value_counts().sort_index()"
   ]
  },
  {
   "cell_type": "code",
   "execution_count": 775,
   "id": "02bd40a9",
   "metadata": {
    "scrolled": true
   },
   "outputs": [
    {
     "data": {
      "text/plain": [
       "CATEGORY\n",
       "Breakfast         29\n",
       "Chicken & Fish    21\n",
       "Beef & Pork       13\n",
       "Salads             4\n",
       "Snacks & Sides     1\n",
       "Name: ITEM, dtype: int64"
      ]
     },
     "execution_count": 775,
     "metadata": {},
     "output_type": "execute_result"
    }
   ],
   "source": [
    "# number of items in the 1st cluster by category\n",
    "menu[menu[\"TIER\"]==\"1st\"].groupby(\"CATEGORY\")[\"ITEM\"].count().sort_values(ascending=False)"
   ]
  },
  {
   "cell_type": "code",
   "execution_count": 776,
   "id": "91e99d3b",
   "metadata": {},
   "outputs": [
    {
     "data": {
      "text/plain": [
       "CATEGORY\n",
       "Breakfast         6\n",
       "Chicken & Fish    2\n",
       "Name: ITEM, dtype: int64"
      ]
     },
     "execution_count": 776,
     "metadata": {},
     "output_type": "execute_result"
    }
   ],
   "source": [
    "# number of items in the 2nd cluster by category\n",
    "menu[menu[\"TIER\"]==\"2nd\"].groupby(\"CATEGORY\")[\"ITEM\"].count().sort_values(ascending=False)"
   ]
  },
  {
   "cell_type": "code",
   "execution_count": 777,
   "id": "242da03a",
   "metadata": {},
   "outputs": [
    {
     "data": {
      "text/plain": [
       "CATEGORY\n",
       "Smoothies & Shakes    16\n",
       "Coffee & Tea          15\n",
       "Name: ITEM, dtype: int64"
      ]
     },
     "execution_count": 777,
     "metadata": {},
     "output_type": "execute_result"
    }
   ],
   "source": [
    "# number of items in the 3rd cluster by category\n",
    "menu[menu[\"TIER\"]==\"3rd\"].groupby(\"CATEGORY\")[\"ITEM\"].count().sort_values(ascending=False)"
   ]
  },
  {
   "cell_type": "code",
   "execution_count": 778,
   "id": "42ca68e9",
   "metadata": {},
   "outputs": [
    {
     "data": {
      "text/plain": [
       "CATEGORY\n",
       "Coffee & Tea          80\n",
       "Beverages             27\n",
       "Desserts              13\n",
       "Smoothies & Shakes    12\n",
       "Snacks & Sides        12\n",
       "Breakfast              7\n",
       "Chicken & Fish         4\n",
       "Beef & Pork            2\n",
       "Salads                 2\n",
       "Name: ITEM, dtype: int64"
      ]
     },
     "execution_count": 778,
     "metadata": {},
     "output_type": "execute_result"
    }
   ],
   "source": [
    "# number of items in the 4th cluster by category\n",
    "menu[menu[\"TIER\"]==\"4th\"].groupby(\"CATEGORY\")[\"ITEM\"].count().sort_values(ascending=False)"
   ]
  },
  {
   "cell_type": "code",
   "execution_count": 780,
   "id": "c8a83a2e",
   "metadata": {},
   "outputs": [],
   "source": [
    "# Based on the result, the team set up the strategic direction for each cluster\n",
    "\n",
    "# 1st tier items are very well positioned, so they should keep it up\n",
    "\n",
    "# 2nd tier items have unstable premium position, so the company needs to boost consumer preference of them\n",
    "\n",
    "# 3rd tier items have room for a price increase, so the company should make them premium menu\n",
    "\n",
    "# 4th tier items have low value for the company, so the company should consider exit or restructuring"
   ]
  },
  {
   "cell_type": "markdown",
   "id": "86bf419b",
   "metadata": {},
   "source": [
    "# Analysis - Regression"
   ]
  },
  {
   "cell_type": "code",
   "execution_count": null,
   "id": "e3de9405",
   "metadata": {},
   "outputs": [],
   "source": [
    "# To check the feasibility of the strategic direction,\n",
    "# The team set up three questions to be answered\n",
    "\n",
    "# regarding the price-increase of the 3rd tier items,\n",
    "# 1. Will price-increase hurt the consumer preference?\n",
    "\n",
    "# regarding the consumer preference boost of the 2nd tier items,\n",
    "# 2. Can additional serving sizes of food boost consumer preference?\n",
    "# 3. Can nutritional adjustment for the menu boost consumer preference?"
   ]
  },
  {
   "cell_type": "code",
   "execution_count": null,
   "id": "9d17b2d4",
   "metadata": {},
   "outputs": [],
   "source": [
    "# \"1. Will price-increase hurt the consumer preference? \" was answered with Weka\n",
    "# and it turns out that the price increase can hurt the consumer preference"
   ]
  },
  {
   "cell_type": "code",
   "execution_count": 802,
   "id": "b78d82f3",
   "metadata": {},
   "outputs": [],
   "source": [
    "# Conduct linear regression for\n",
    "# \"2. Can additional serving sizes of food boost consumer preference?\"\n",
    "# \"3. Can nutritional adjustment for the menu boost consumer preference?"
   ]
  },
  {
   "cell_type": "code",
   "execution_count": 826,
   "id": "daddc27f",
   "metadata": {},
   "outputs": [
    {
     "data": {
      "text/plain": [
       "Index(['YEAR', 'PRICE', 'CONSUMER RATING', 'SERVING SIZE', 'PC1', 'PC2', 'PC3',\n",
       "       'PC4', 'PC5', 'PC6'],\n",
       "      dtype='object')"
      ]
     },
     "execution_count": 826,
     "metadata": {},
     "output_type": "execute_result"
    }
   ],
   "source": [
    "DF1s.columns"
   ]
  },
  {
   "cell_type": "code",
   "execution_count": 829,
   "id": "18b2a53c",
   "metadata": {},
   "outputs": [],
   "source": [
    "from sklearn import datasets, linear_model\n",
    "from sklearn.linear_model import LinearRegression\n",
    "\n",
    "df1 = menu_pca.copy()\n",
    "df3 = menu.copy() \n",
    "DF1 = pd.DataFrame(df1)\n",
    "regr = linear_model.LinearRegression()\n",
    "\n",
    "#Dropping String Columns in DF3 and DF1\n",
    "DF1s = DF1.drop([\"CATEGORY\", \"ITEM\", \"HIT ITEM\", \"SIZE UNIT\"], axis=1)\n",
    "DF3s = df3.drop(['HIT ITEM','CATEGORY','ITEM', \"PRICE SEG\", \"SIZE UNIT\", \"TIER\"], axis=1)\n",
    "\n",
    "# Standardize dataframe\n",
    "DF3S = pd.DataFrame(StandardScaler().fit_transform(DF3s))\n",
    "DF1S = pd.DataFrame(StandardScaler().fit_transform(DF1s))"
   ]
  },
  {
   "cell_type": "code",
   "execution_count": 832,
   "id": "4ddf288e",
   "metadata": {},
   "outputs": [],
   "source": [
    "# Reassigning Columns\n",
    "DF3S.columns = DF3s.columns\n",
    "DF1S.columns = DF1s.columns"
   ]
  },
  {
   "cell_type": "code",
   "execution_count": 833,
   "id": "0ab415d4",
   "metadata": {},
   "outputs": [],
   "source": [
    "# Importing stats and sma for p-values, The following p-value calculations are using the STANDARDIZED data\n",
    "from scipy import stats\n",
    "import statsmodels.api as sma"
   ]
  },
  {
   "cell_type": "code",
   "execution_count": 836,
   "id": "b1e1334b",
   "metadata": {},
   "outputs": [
    {
     "name": "stdout",
     "output_type": "stream",
     "text": [
      "\n",
      "The linear regression coefficients for PC1  ~ PC6 are:\n",
      " [ 0.04334709 -0.11032096  0.10809595  0.12807859  0.01344383  0.06938919]\n",
      "This is the p value for PC1 ~ PC6 in relation to Consumer rating is: [1.    0.475 0.07  0.076 0.036 0.825 0.254]\n",
      "\n",
      "The linear regression coefficients for PC1  ~ PC6 are:\n",
      " [ 0.04334709 -0.11032096  0.10809595  0.12807859  0.01344383  0.06938919]\n"
     ]
    }
   ],
   "source": [
    "#Multiple Linear regression for PCA vs Consumer Rating coefficients\n",
    "x = np.array(DF1S[['PC1','PC2','PC3','PC4','PC5','PC6']])\n",
    "y = np.array(DF1S['CONSUMER RATING'])\n",
    "model1 = LinearRegression()\n",
    "model1.fit(x,y)\n",
    "print(\"\\nThe linear regression coefficients for PC1  ~ PC6 are:\\n\",model1.coef_)\n",
    "\n",
    "# The p values for PCA vs Consumer Rating \n",
    "x1 = DF1S[['PC1','PC2','PC3','PC4','PC5','PC6']]\n",
    "y1 = DF1S['CONSUMER RATING']\n",
    "x3 = sma.add_constant(x)\n",
    "lm = LinearRegression()\n",
    "lm.fit(x1,y1)\n",
    "params = np.append(lm.intercept_,lm.coef_)\n",
    "predictions = lm.predict(x1)\n",
    "new_X = np.append(np.ones((len(x1),1)), x1, axis=1)\n",
    "M_S_E = (sum((y1-predictions)**2))/(len(new_X)-len(new_X[0]))\n",
    "v_b = M_S_E*(np.linalg.inv(np.dot(new_X.T,new_X)).diagonal())\n",
    "s_b = np.sqrt(v_b)\n",
    "t_b = params/ s_b\n",
    "p_val =[2*(1-stats.t.cdf(np.abs(i),(len(new_X)-len(new_X[0])))) for i in t_b]\n",
    "p_val = np.round(p_val,3)\n",
    "print(\"This is the p value for PC1 ~ PC6 in relation to Consumer rating is:\",p_val)\n",
    "\n",
    "#Multiple Linear regression for PCA vs Consumer Rating coefficients\n",
    "x = np.array(DF1S[['PC1','PC2','PC3','PC4','PC5','PC6']])\n",
    "y = np.array(DF1S['CONSUMER RATING'])\n",
    "model1 = LinearRegression()\n",
    "model1.fit(x,y)\n",
    "print(\"\\nThe linear regression coefficients for PC1  ~ PC6 are:\\n\",model1.coef_)\n",
    "\n",
    "# PC4 has statistical significance towards the consumer rating in a negative way\n",
    "# It can be interpreted that nutritional adjustment can increase the consumre rating"
   ]
  },
  {
   "cell_type": "code",
   "execution_count": 837,
   "id": "80b547cd",
   "metadata": {
    "scrolled": true
   },
   "outputs": [
    {
     "name": "stdout",
     "output_type": "stream",
     "text": [
      "This is the p value for Serving Size in relation to Consumer rating is: [1.    0.017]\n",
      "\n",
      "The linear regression coefficient for Serving Size vs Consumer rating is: [-0.14641999]\n",
      "\n",
      "The R-squared value for Serving Size vs Consumer Rating is: 0.0214\n"
     ]
    }
   ],
   "source": [
    "# The p values for Serving Size vs Consumer Rating\n",
    "x1 = DF3S[['SERVING SIZE']]\n",
    "y1 = DF3S['CONSUMER RATING']\n",
    "x3 = sma.add_constant(x)\n",
    "lm = LinearRegression()\n",
    "lm.fit(x1,y1)\n",
    "params = np.append(lm.intercept_,lm.coef_)\n",
    "predictions = lm.predict(x1)\n",
    "new_X = np.append(np.ones((len(x1),1)), x1, axis=1)\n",
    "M_S_E = (sum((y1-predictions)**2))/(len(new_X)-len(new_X[0]))\n",
    "v_b = M_S_E*(np.linalg.inv(np.dot(new_X.T,new_X)).diagonal())\n",
    "s_b = np.sqrt(v_b)\n",
    "t_b = params/ s_b\n",
    "p_val =[2*(1-stats.t.cdf(np.abs(i),(len(new_X)-len(new_X[0])))) for i in t_b]\n",
    "p_val = np.round(p_val,3)\n",
    "print(\"This is the p value for Serving Size in relation to Consumer rating is:\",p_val)\n",
    "      \n",
    "#Linear regression for Serving Size vs Consumer Rating\n",
    "xs = np.array(DF3S['SERVING SIZE']).reshape((-1,1))\n",
    "ys = np.array(DF3S['CONSUMER RATING'])\n",
    "\n",
    "#Linear regression\n",
    "model1 = LinearRegression()\n",
    "model1.fit(xs,ys)\n",
    "print(\"\\nThe linear regression coefficient for Serving Size vs Consumer rating is:\",model1.coef_)\n",
    "print(\"\\nThe R-squared value for Serving Size vs Consumer Rating is:\", round(model1.score(xs,ys),4))\n",
    "\n",
    "# Serving size has statistical significance towards the consumer rating in a negative way\n",
    "# It can be interpreted that additional serving size can decrease the consumre rating"
   ]
  },
  {
   "cell_type": "markdown",
   "id": "059e7ad4",
   "metadata": {},
   "source": [
    "# Analysis - Decision Tree"
   ]
  },
  {
   "cell_type": "code",
   "execution_count": null,
   "id": "17d79bc0",
   "metadata": {},
   "outputs": [],
   "source": [
    "# To further investigate the nutritional adjustment, a decision tree analysis was conducted using Weka\n",
    "# and it turns that nutritional adjustment for calories from fat, saturated fat, and protein could boost consumer preference"
   ]
  },
  {
   "cell_type": "markdown",
   "id": "93470241",
   "metadata": {},
   "source": [
    "# Analysis - Proportion of items by tier"
   ]
  },
  {
   "cell_type": "code",
   "execution_count": 998,
   "id": "43087ee9",
   "metadata": {},
   "outputs": [
    {
     "data": {
      "text/plain": [
       "<matplotlib.legend.Legend at 0x1b1c39a5250>"
      ]
     },
     "execution_count": 998,
     "metadata": {},
     "output_type": "execute_result"
    },
    {
     "data": {
      "image/png": "[encoded data removed]",
      "text/plain": [
       "<Figure size 432x288 with 1 Axes>"
      ]
     },
     "metadata": {
      "needs_background": "light"
     },
     "output_type": "display_data"
    }
   ],
   "source": [
    "# Show the proportion of items launched every year\n",
    "\n",
    "items_year=menu[[\"YEAR\", \"TIER\"]].sort_values(by=\"YEAR\").groupby(\"YEAR\").value_counts().unstack().fillna(0).astype(\"int\").iloc[24:]\n",
    "\n",
    "items_year.plot(kind=\"bar\", stacked=True, color=[\"black\", \"gray\", \"darkgray\", \"gainsboro\"])\n",
    "plt.xlabel(\"\")\n",
    "plt.ylim(0,25)\n",
    "plt.xticks(rotation=30)\n",
    "plt.gca().spines[ [\"right\", \"left\", \"top\", \"bottom\"] ].set_visible(False) \n",
    "plt.legend(loc=\"upper right\")\n",
    "\n",
    "# The number of items has been decreasing"
   ]
  },
  {
   "cell_type": "code",
   "execution_count": 1000,
   "id": "cfd604a6",
   "metadata": {
    "scrolled": true
   },
   "outputs": [
    {
     "data": {
      "text/plain": [
       "Text(0.5, 0, '')"
      ]
     },
     "execution_count": 1000,
     "metadata": {},
     "output_type": "execute_result"
    },
    {
     "data": {
      "image/png": "[encoded data removed]",
      "text/plain": [
       "<Figure size 432x288 with 1 Axes>"
      ]
     },
     "metadata": {
      "needs_background": "light"
     },
     "output_type": "display_data"
    }
   ],
   "source": [
    "# Plot the stock price of the company\n",
    "\n",
    "data.DataReader(name=\"MCD\", data_source=\"yahoo\", start=\"2010-01-01\", end=\"2022-10-31\")[\"Close\"].plot(color=\"red\", linewidth=0.5)\n",
    "plt.gca().spines[ [\"right\", \"left\", \"top\", \"bottom\"] ].set_visible(False) \n",
    "plt.xlabel(\"\")\n",
    "\n",
    "# It seems like the number of items launched in each year does not affect the stock price"
   ]
  },
  {
   "cell_type": "code",
   "execution_count": 1040,
   "id": "c4124a34",
   "metadata": {
    "scrolled": false
   },
   "outputs": [
    {
     "data": {
      "text/plain": [
       "Text(0, 0.5, '')"
      ]
     },
     "execution_count": 1040,
     "metadata": {},
     "output_type": "execute_result"
    },
    {
     "data": {
      "image/png": "[encoded data removed]",
      "text/plain": [
       "<Figure size 432x288 with 1 Axes>"
      ]
     },
     "metadata": {},
     "output_type": "display_data"
    }
   ],
   "source": [
    "# Plot the item proportion for the last 10 year\n",
    "\n",
    "items_year.iloc[-10:].sum(axis=0).plot(kind=\"pie\", startangle=0, explode=[0.2,0,0,0], colors=[\"black\", \"gray\", \"darkgray\", \"gainsboro\"])\n",
    "plt.xticks(fontsize=30)\n",
    "plt.ylabel(\"\")"
   ]
  },
  {
   "cell_type": "code",
   "execution_count": 1129,
   "id": "114775c5",
   "metadata": {},
   "outputs": [
    {
     "data": {
      "text/plain": [
       "TIER\n",
       "1st    30\n",
       "2nd     6\n",
       "3rd     7\n",
       "4th    40\n",
       "dtype: int64"
      ]
     },
     "execution_count": 1129,
     "metadata": {},
     "output_type": "execute_result"
    }
   ],
   "source": [
    "items_year.iloc[-10:].sum(axis=0)"
   ]
  },
  {
   "cell_type": "code",
   "execution_count": 1127,
   "id": "a90b1424",
   "metadata": {},
   "outputs": [],
   "source": [
    "# Set up the next 5 year goal of the item proportion\n",
    "items_goal=items_year.iloc[-10:].sum(axis=0).copy()\n",
    "items_goal[0]=items_goal.iloc[0]*1.1"
   ]
  },
  {
   "cell_type": "code",
   "execution_count": 1128,
   "id": "e106a669",
   "metadata": {},
   "outputs": [
    {
     "data": {
      "text/plain": [
       "Text(0, 0.5, '')"
      ]
     },
     "execution_count": 1128,
     "metadata": {},
     "output_type": "execute_result"
    },
    {
     "data": {
      "image/png": "[encoded data removed]",
      "text/plain": [
       "<Figure size 432x288 with 1 Axes>"
      ]
     },
     "metadata": {},
     "output_type": "display_data"
    }
   ],
   "source": [
    "items_goal[3]=items_goal.iloc[3]*0.7\n",
    "\n",
    "items_goal.plot(kind=\"pie\", startangle=0, explode=[0.2,0,0,0], colors=[\"black\", \"gray\", \"darkgray\", \"gainsboro\"])\n",
    "plt.xticks(fontsize=30)\n",
    "plt.ylabel(\"\")\n",
    "\n",
    "# The proportion of the 1st tier item increases 9%p\n",
    "# The proportion of the 2st tier item increases 1%p\n",
    "# The proportion of the 3rd tier item increases 1%p\n",
    "# The proportion of the 4th tier item decreases 10%p"
   ]
  },
  {
   "cell_type": "markdown",
   "id": "6f133f76",
   "metadata": {},
   "source": [
    "# EOD"
   ]
  }
 ],
 "metadata": {
  "kernelspec": {
   "display_name": "Python 3 (ipykernel)",
   "language": "python",
   "name": "python3"
  },
  "language_info": {
   "codemirror_mode": {
    "name": "ipython",
    "version": 3
   },
   "file_extension": ".py",
   "mimetype": "text/x-python",
   "name": "python",
   "nbconvert_exporter": "python",
   "pygments_lexer": "ipython3",
   "version": "3.9.12"
  }
 },
 "nbformat": 4,
 "nbformat_minor": 5
}
